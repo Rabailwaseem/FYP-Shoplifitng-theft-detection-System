{
  "nbformat": 4,
  "nbformat_minor": 0,
  "metadata": {
    "colab": {
      "provenance": [],
      "include_colab_link": true
    },
    "kernelspec": {
      "name": "python3",
      "display_name": "Python 3"
    },
    "language_info": {
      "name": "python"
    }
  },
  "cells": [
    {
      "cell_type": "markdown",
      "metadata": {
        "id": "view-in-github",
        "colab_type": "text"
      },
      "source": [
        "<a href=\"https://colab.research.google.com/github/AfifaMasood/AfifaMasood/blob/main/Copy_of_Copy_of_24_1_2025_frame_by_frame.ipynb\" target=\"_parent\"><img src=\"https://colab.research.google.com/assets/colab-badge.svg\" alt=\"Open In Colab\"/></a>"
      ]
    },
    {
      "cell_type": "code",
      "execution_count": null,
      "metadata": {
        "id": "oGXXVMKwYqvG",
        "colab": {
          "base_uri": "https://localhost:8080/"
        },
        "outputId": "b9751a3a-bf84-4baa-e926-dd0d03f9e86b"
      },
      "outputs": [
        {
          "output_type": "stream",
          "name": "stdout",
          "text": [
            "Mounted at /content/drive\n",
            "Dataset folder found!\n",
            "Found 262 video files:\n",
            "/content/drive/My Drive/FYP Dataset/Normal/Normal-6.mp4\n",
            "/content/drive/My Drive/FYP Dataset/Normal/Normal-3.mp4\n",
            "/content/drive/My Drive/FYP Dataset/Normal/Normal-7.mp4\n",
            "/content/drive/My Drive/FYP Dataset/Normal/Normal-10.mp4\n",
            "/content/drive/My Drive/FYP Dataset/Normal/Normal-5.mp4\n",
            "/content/drive/My Drive/FYP Dataset/Normal/Normal-4.mp4\n",
            "/content/drive/My Drive/FYP Dataset/Normal/Normal-2.mp4\n",
            "/content/drive/My Drive/FYP Dataset/Normal/Normal-9.mp4\n",
            "/content/drive/My Drive/FYP Dataset/Normal/Normal-11.mp4\n",
            "/content/drive/My Drive/FYP Dataset/Normal/Normal-1.mp4\n",
            "/content/drive/My Drive/FYP Dataset/Normal/Normal-12.mp4\n",
            "/content/drive/My Drive/FYP Dataset/Normal/Normal-21.mp4\n",
            "/content/drive/My Drive/FYP Dataset/Normal/Normal-14.mp4\n",
            "/content/drive/My Drive/FYP Dataset/Normal/Normal-13.mp4\n",
            "/content/drive/My Drive/FYP Dataset/Normal/Normal-16.mp4\n",
            "/content/drive/My Drive/FYP Dataset/Normal/Normal-20.mp4\n",
            "/content/drive/My Drive/FYP Dataset/Normal/Normal-18.mp4\n",
            "/content/drive/My Drive/FYP Dataset/Normal/Normal-15.mp4\n",
            "/content/drive/My Drive/FYP Dataset/Normal/Normal-19.mp4\n",
            "/content/drive/My Drive/FYP Dataset/Normal/Normal-17.mp4\n",
            "/content/drive/My Drive/FYP Dataset/Normal/Normal-33.mp4\n",
            "/content/drive/My Drive/FYP Dataset/Normal/Normal-22.mp4\n",
            "/content/drive/My Drive/FYP Dataset/Normal/Normal-28.mp4\n",
            "/content/drive/My Drive/FYP Dataset/Normal/Normal-25.mp4\n",
            "/content/drive/My Drive/FYP Dataset/Normal/Normal-31.mp4\n",
            "/content/drive/My Drive/FYP Dataset/Normal/Normal-23.mp4\n",
            "/content/drive/My Drive/FYP Dataset/Normal/Normal-29.mp4\n",
            "/content/drive/My Drive/FYP Dataset/Normal/Normal-24.mp4\n",
            "/content/drive/My Drive/FYP Dataset/Normal/Normal-30.mp4\n",
            "/content/drive/My Drive/FYP Dataset/Normal/Normal-26.mp4\n",
            "/content/drive/My Drive/FYP Dataset/Normal/Normal-27.mp4\n",
            "/content/drive/My Drive/FYP Dataset/Normal/Normal-32.mp4\n",
            "/content/drive/My Drive/FYP Dataset/Normal/Normal-37.mp4\n",
            "/content/drive/My Drive/FYP Dataset/Normal/Normal-39.mp4\n",
            "/content/drive/My Drive/FYP Dataset/Normal/Normal-40.mp4\n",
            "/content/drive/My Drive/FYP Dataset/Normal/Normal-34.mp4\n",
            "/content/drive/My Drive/FYP Dataset/Normal/Normal-35.mp4\n",
            "/content/drive/My Drive/FYP Dataset/Normal/Normal-36.mp4\n",
            "/content/drive/My Drive/FYP Dataset/Normal/Normal-38.mp4\n",
            "/content/drive/My Drive/FYP Dataset/Normal/Normal-126.mp4\n",
            "/content/drive/My Drive/FYP Dataset/Normal/Normal-122.mp4\n",
            "/content/drive/My Drive/FYP Dataset/Normal/Normal-123.mp4\n",
            "/content/drive/My Drive/FYP Dataset/Normal/Normal-121.mp4\n",
            "/content/drive/My Drive/FYP Dataset/Normal/Normal-125.mp4\n",
            "/content/drive/My Drive/FYP Dataset/Normal/Normal-124.mp4\n",
            "/content/drive/My Drive/FYP Dataset/Normal/Normal-41.mp4\n",
            "/content/drive/My Drive/FYP Dataset/Normal/Normal-47.mp4\n",
            "/content/drive/My Drive/FYP Dataset/Normal/Normal-43.mp4\n",
            "/content/drive/My Drive/FYP Dataset/Normal/Normal-44.mp4\n",
            "/content/drive/My Drive/FYP Dataset/Normal/Normal-42.mp4\n",
            "/content/drive/My Drive/FYP Dataset/Normal/Normal-48.mp4\n",
            "/content/drive/My Drive/FYP Dataset/Normal/Normal-46.mp4\n",
            "/content/drive/My Drive/FYP Dataset/Normal/Normal-45.mp4\n",
            "/content/drive/My Drive/FYP Dataset/Normal/Normal-49.mp4\n",
            "/content/drive/My Drive/FYP Dataset/Normal/Normal-50.mp4\n",
            "/content/drive/My Drive/FYP Dataset/Normal/Normal-52.mp4\n",
            "/content/drive/My Drive/FYP Dataset/Normal/Normal-54.mp4\n",
            "/content/drive/My Drive/FYP Dataset/Normal/Normal-51.mp4\n",
            "/content/drive/My Drive/FYP Dataset/Normal/Normal-53.mp4\n",
            "/content/drive/My Drive/FYP Dataset/Normal/Normal-61.mp4\n",
            "/content/drive/My Drive/FYP Dataset/Normal/Normal-60.mp4\n",
            "/content/drive/My Drive/FYP Dataset/Normal/Normal-57.mp4\n",
            "/content/drive/My Drive/FYP Dataset/Normal/Normal-58.mp4\n",
            "/content/drive/My Drive/FYP Dataset/Normal/Normal-59.mp4\n",
            "/content/drive/My Drive/FYP Dataset/Normal/Normal-62.mp4\n",
            "/content/drive/My Drive/FYP Dataset/Normal/Normal-56.mp4\n",
            "/content/drive/My Drive/FYP Dataset/Normal/Normal-55.mp4\n",
            "/content/drive/My Drive/FYP Dataset/Normal/Normal-65.mp4\n",
            "/content/drive/My Drive/FYP Dataset/Normal/Normal-64.mp4\n",
            "/content/drive/My Drive/FYP Dataset/Normal/Normal-70.mp4\n",
            "/content/drive/My Drive/FYP Dataset/Normal/Normal-66.mp4\n",
            "/content/drive/My Drive/FYP Dataset/Normal/Normal-67.mp4\n",
            "/content/drive/My Drive/FYP Dataset/Normal/Normal-68.mp4\n",
            "/content/drive/My Drive/FYP Dataset/Normal/Normal-63.mp4\n",
            "/content/drive/My Drive/FYP Dataset/Normal/Normal-73.mp4\n",
            "/content/drive/My Drive/FYP Dataset/Normal/Normal-74.mp4\n",
            "/content/drive/My Drive/FYP Dataset/Normal/Normal-69.mp4\n",
            "/content/drive/My Drive/FYP Dataset/Normal/Normal-72.mp4\n",
            "/content/drive/My Drive/FYP Dataset/Normal/Normal-76.mp4\n",
            "/content/drive/My Drive/FYP Dataset/Normal/Normal-71.mp4\n",
            "/content/drive/My Drive/FYP Dataset/Normal/Normal-75.mp4\n",
            "/content/drive/My Drive/FYP Dataset/Normal/Normal-84.mp4\n",
            "/content/drive/My Drive/FYP Dataset/Normal/Normal-79.mp4\n",
            "/content/drive/My Drive/FYP Dataset/Normal/Normal-89.mp4\n",
            "/content/drive/My Drive/FYP Dataset/Normal/Normal-81.mp4\n",
            "/content/drive/My Drive/FYP Dataset/Normal/Normal-85.mp4\n",
            "/content/drive/My Drive/FYP Dataset/Normal/Normal-82.mp4\n",
            "/content/drive/My Drive/FYP Dataset/Normal/Normal-91.mp4\n",
            "/content/drive/My Drive/FYP Dataset/Normal/Normal-80.mp4\n",
            "/content/drive/My Drive/FYP Dataset/Normal/Normal-78.mp4\n",
            "/content/drive/My Drive/FYP Dataset/Normal/Normal-77.mp4\n",
            "/content/drive/My Drive/FYP Dataset/Normal/Normal-87.mp4\n",
            "/content/drive/My Drive/FYP Dataset/Normal/Normal-90.mp4\n",
            "/content/drive/My Drive/FYP Dataset/Normal/Normal-86.mp4\n",
            "/content/drive/My Drive/FYP Dataset/Normal/Normal-83.mp4\n",
            "/content/drive/My Drive/FYP Dataset/Normal/Normal-88.mp4\n",
            "/content/drive/My Drive/FYP Dataset/Normal/Normal-105.mp4\n",
            "/content/drive/My Drive/FYP Dataset/Normal/Normal-103.mp4\n",
            "/content/drive/My Drive/FYP Dataset/Normal/Normal-106.mp4\n",
            "/content/drive/My Drive/FYP Dataset/Normal/Normal-107.mp4\n",
            "/content/drive/My Drive/FYP Dataset/Normal/Normal-99.mp4\n",
            "/content/drive/My Drive/FYP Dataset/Normal/Normal-108.mp4\n",
            "/content/drive/My Drive/FYP Dataset/Normal/Normal-102.mp4\n",
            "/content/drive/My Drive/FYP Dataset/Normal/Normal-96.mp4\n",
            "/content/drive/My Drive/FYP Dataset/Normal/Normal-101.mp4\n",
            "/content/drive/My Drive/FYP Dataset/Normal/Normal-93.mp4\n",
            "/content/drive/My Drive/FYP Dataset/Normal/Normal-95.mp4\n",
            "/content/drive/My Drive/FYP Dataset/Normal/Normal-100.mp4\n",
            "/content/drive/My Drive/FYP Dataset/Normal/Normal-104.mp4\n",
            "/content/drive/My Drive/FYP Dataset/Normal/Normal-94.mp4\n",
            "/content/drive/My Drive/FYP Dataset/Normal/Normal-97.mp4\n",
            "/content/drive/My Drive/FYP Dataset/Normal/Normal-92.mp4\n",
            "/content/drive/My Drive/FYP Dataset/Normal/Normal-109.mp4\n",
            "/content/drive/My Drive/FYP Dataset/Normal/Normal-98.mp4\n",
            "/content/drive/My Drive/FYP Dataset/Normal/Normal-120.mp4\n",
            "/content/drive/My Drive/FYP Dataset/Normal/Normal-113.mp4\n",
            "/content/drive/My Drive/FYP Dataset/Normal/Normal-115.mp4\n",
            "/content/drive/My Drive/FYP Dataset/Normal/Normal-117.mp4\n",
            "/content/drive/My Drive/FYP Dataset/Normal/Normal-114.mp4\n",
            "/content/drive/My Drive/FYP Dataset/Normal/Normal-112.mp4\n",
            "/content/drive/My Drive/FYP Dataset/Normal/Normal-119.mp4\n",
            "/content/drive/My Drive/FYP Dataset/Normal/Normal-118.mp4\n",
            "/content/drive/My Drive/FYP Dataset/Normal/Normal-116.mp4\n",
            "/content/drive/My Drive/FYP Dataset/Normal/Normal-111.mp4\n",
            "/content/drive/My Drive/FYP Dataset/Normal/Normal-110.mp4\n",
            "/content/drive/My Drive/FYP Dataset/Normal/Normal-127.mp4\n",
            "/content/drive/My Drive/FYP Dataset/Normal/Normal-128.mp4\n",
            "/content/drive/My Drive/FYP Dataset/Normal/Normal-129.mp4\n",
            "/content/drive/My Drive/FYP Dataset/Normal/Normal-130.mp4\n",
            "/content/drive/My Drive/FYP Dataset/Normal/Normal-131.mp4\n",
            "/content/drive/My Drive/FYP Dataset/Normal/Normal-132.mp4\n",
            "/content/drive/My Drive/FYP Dataset/Shoplifting/Shoplifting-112.mp4\n",
            "/content/drive/My Drive/FYP Dataset/Shoplifting/Shoplifting-131.mp4\n",
            "/content/drive/My Drive/FYP Dataset/Shoplifting/Shoplifting-115.mp4\n",
            "/content/drive/My Drive/FYP Dataset/Shoplifting/Shoplifting-113.mp4\n",
            "/content/drive/My Drive/FYP Dataset/Shoplifting/Shoplifting-114.mp4\n",
            "/content/drive/My Drive/FYP Dataset/Shoplifting/Shoplifting-116.mp4\n",
            "/content/drive/My Drive/FYP Dataset/Shoplifting/Shoplifting-118.mp4\n",
            "/content/drive/My Drive/FYP Dataset/Shoplifting/Shoplifting-120.mp4\n",
            "/content/drive/My Drive/FYP Dataset/Shoplifting/Shoplifting-117.mp4\n",
            "/content/drive/My Drive/FYP Dataset/Shoplifting/Shoplifting-119.mp4\n",
            "/content/drive/My Drive/FYP Dataset/Shoplifting/Shoplifting-121.mp4\n",
            "/content/drive/My Drive/FYP Dataset/Shoplifting/Shoplifting-123.mp4\n",
            "/content/drive/My Drive/FYP Dataset/Shoplifting/Shoplifting-132.mp4\n",
            "/content/drive/My Drive/FYP Dataset/Shoplifting/Shoplifting-127.mp4\n",
            "/content/drive/My Drive/FYP Dataset/Shoplifting/Shoplifting-122.mp4\n",
            "/content/drive/My Drive/FYP Dataset/Shoplifting/Shoplifting-128.mp4\n",
            "/content/drive/My Drive/FYP Dataset/Shoplifting/Shoplifting-126.mp4\n",
            "/content/drive/My Drive/FYP Dataset/Shoplifting/Shoplifting-125.mp4\n",
            "/content/drive/My Drive/FYP Dataset/Shoplifting/Shoplifting-124.mp4\n",
            "/content/drive/My Drive/FYP Dataset/Shoplifting/Shoplifting-130.mp4\n",
            "/content/drive/My Drive/FYP Dataset/Shoplifting/Shoplifting-129.mp4\n",
            "/content/drive/My Drive/FYP Dataset/Shoplifting/Shoplifting-17.mp4\n",
            "/content/drive/My Drive/FYP Dataset/Shoplifting/Shoplifting-18.mp4\n",
            "/content/drive/My Drive/FYP Dataset/Shoplifting/Shoplifting-19.mp4\n",
            "/content/drive/My Drive/FYP Dataset/Shoplifting/Shoplifting-20.mp4\n",
            "/content/drive/My Drive/FYP Dataset/Shoplifting/Shoplifting-21.mp4\n",
            "/content/drive/My Drive/FYP Dataset/Shoplifting/Shoplifting-22.mp4\n",
            "/content/drive/My Drive/FYP Dataset/Shoplifting/Shoplifting-9.mp4\n",
            "/content/drive/My Drive/FYP Dataset/Shoplifting/Shoplifting-10.mp4\n",
            "/content/drive/My Drive/FYP Dataset/Shoplifting/Shoplifting-12.mp4\n",
            "/content/drive/My Drive/FYP Dataset/Shoplifting/Shoplifting-7.mp4\n",
            "/content/drive/My Drive/FYP Dataset/Shoplifting/Shoplifting-13.mp4\n",
            "/content/drive/My Drive/FYP Dataset/Shoplifting/Shoplifting-8.mp4\n",
            "/content/drive/My Drive/FYP Dataset/Shoplifting/Shoplifting-11.mp4\n",
            "/content/drive/My Drive/FYP Dataset/Shoplifting/Shoplifting-14.mp4\n",
            "/content/drive/My Drive/FYP Dataset/Shoplifting/Shoplifting-15.mp4\n",
            "/content/drive/My Drive/FYP Dataset/Shoplifting/Shoplifting-16.mp4\n",
            "/content/drive/My Drive/FYP Dataset/Shoplifting/Shoplifting-3.mp4\n",
            "/content/drive/My Drive/FYP Dataset/Shoplifting/Shoplifting-4.mp4\n",
            "/content/drive/My Drive/FYP Dataset/Shoplifting/Shoplifting-5.mp4\n",
            "/content/drive/My Drive/FYP Dataset/Shoplifting/Shoplifting-6.mp4\n",
            "/content/drive/My Drive/FYP Dataset/Shoplifting/Shoplifting-30.mp4\n",
            "/content/drive/My Drive/FYP Dataset/Shoplifting/Shoplifting-31.mp4\n",
            "/content/drive/My Drive/FYP Dataset/Shoplifting/Shoplifting-36.mp4\n",
            "/content/drive/My Drive/FYP Dataset/Shoplifting/Shoplifting-37.mp4\n",
            "/content/drive/My Drive/FYP Dataset/Shoplifting/Shoplifting-38.mp4\n",
            "/content/drive/My Drive/FYP Dataset/Shoplifting/Shoplifting-34.mp4\n",
            "/content/drive/My Drive/FYP Dataset/Shoplifting/Shoplifting-35.mp4\n",
            "/content/drive/My Drive/FYP Dataset/Shoplifting/Shoplifting-39.mp4\n",
            "/content/drive/My Drive/FYP Dataset/Shoplifting/Shoplifting-40.mp4\n",
            "/content/drive/My Drive/FYP Dataset/Shoplifting/Shoplifting-43.mp4\n",
            "/content/drive/My Drive/FYP Dataset/Shoplifting/Shoplifting-44.mp4\n",
            "/content/drive/My Drive/FYP Dataset/Shoplifting/Shoplifting-45.mp4\n",
            "/content/drive/My Drive/FYP Dataset/Shoplifting/Shoplifting-46.mp4\n",
            "/content/drive/My Drive/FYP Dataset/Shoplifting/Shoplifting-32.mp4\n",
            "/content/drive/My Drive/FYP Dataset/Shoplifting/Shoplifting-41.mp4\n",
            "/content/drive/My Drive/FYP Dataset/Shoplifting/Shoplifting-42.mp4\n",
            "/content/drive/My Drive/FYP Dataset/Shoplifting/Shoplifting-33.mp4\n",
            "/content/drive/My Drive/FYP Dataset/Shoplifting/Shoplifting-73.mp4\n",
            "/content/drive/My Drive/FYP Dataset/Shoplifting/Shoplifting-74.mp4\n",
            "/content/drive/My Drive/FYP Dataset/Shoplifting/Shoplifting-48.mp4\n",
            "/content/drive/My Drive/FYP Dataset/Shoplifting/Shoplifting-75.mp4\n",
            "/content/drive/My Drive/FYP Dataset/Shoplifting/Shoplifting-76.mp4\n",
            "/content/drive/My Drive/FYP Dataset/Shoplifting/Shoplifting-77.mp4\n",
            "/content/drive/My Drive/FYP Dataset/Shoplifting/Shoplifting-78.mp4\n",
            "/content/drive/My Drive/FYP Dataset/Shoplifting/Shoplifting-79.mp4\n",
            "/content/drive/My Drive/FYP Dataset/Shoplifting/Shoplifting-80.mp4\n",
            "/content/drive/My Drive/FYP Dataset/Shoplifting/Shoplifting-81.mp4\n",
            "/content/drive/My Drive/FYP Dataset/Shoplifting/Shoplifting-82.mp4\n",
            "/content/drive/My Drive/FYP Dataset/Shoplifting/Shoplifting-83.mp4\n",
            "/content/drive/My Drive/FYP Dataset/Shoplifting/Shoplifting-84.mp4\n",
            "/content/drive/My Drive/FYP Dataset/Shoplifting/Shoplifting-85.mp4\n",
            "/content/drive/My Drive/FYP Dataset/Shoplifting/Shoplifting-86.mp4\n",
            "/content/drive/My Drive/FYP Dataset/Shoplifting/Shoplifting-87.mp4\n",
            "/content/drive/My Drive/FYP Dataset/Shoplifting/Shoplifting-88.mp4\n",
            "/content/drive/My Drive/FYP Dataset/Shoplifting/Shoplifting-89.mp4\n",
            "/content/drive/My Drive/FYP Dataset/Shoplifting/Shoplifting-90.mp4\n",
            "/content/drive/My Drive/FYP Dataset/Shoplifting/Shoplifting-91.mp4\n",
            "/content/drive/My Drive/FYP Dataset/Shoplifting/Shoplifting-92.mp4\n",
            "/content/drive/My Drive/FYP Dataset/Shoplifting/Shoplifting-93.mp4\n",
            "/content/drive/My Drive/FYP Dataset/Shoplifting/Shoplifting-94.mp4\n",
            "/content/drive/My Drive/FYP Dataset/Shoplifting/Shoplifting-95.mp4\n",
            "/content/drive/My Drive/FYP Dataset/Shoplifting/Shoplifting-96.mp4\n",
            "/content/drive/My Drive/FYP Dataset/Shoplifting/Shoplifting-97.mp4\n",
            "/content/drive/My Drive/FYP Dataset/Shoplifting/Shoplifting-98.mp4\n",
            "/content/drive/My Drive/FYP Dataset/Shoplifting/Shoplifting-99.mp4\n",
            "/content/drive/My Drive/FYP Dataset/Shoplifting/Shoplifting-100.mp4\n",
            "/content/drive/My Drive/FYP Dataset/Shoplifting/Shoplifting-101.mp4\n",
            "/content/drive/My Drive/FYP Dataset/Shoplifting/Shoplifting-102.mp4\n",
            "/content/drive/My Drive/FYP Dataset/Shoplifting/Shoplifting-103.mp4\n",
            "/content/drive/My Drive/FYP Dataset/Shoplifting/Shoplifting-104.mp4\n",
            "/content/drive/My Drive/FYP Dataset/Shoplifting/Shoplifting-105.mp4\n",
            "/content/drive/My Drive/FYP Dataset/Shoplifting/Shoplifting-106.mp4\n",
            "/content/drive/My Drive/FYP Dataset/Shoplifting/Shoplifting-107.mp4\n",
            "/content/drive/My Drive/FYP Dataset/Shoplifting/Shoplifting-108.mp4\n",
            "/content/drive/My Drive/FYP Dataset/Shoplifting/Shoplifting-109.mp4\n",
            "/content/drive/My Drive/FYP Dataset/Shoplifting/Shoplifting-110.mp4\n",
            "/content/drive/My Drive/FYP Dataset/Shoplifting/Shoplifting-111.mp4\n",
            "/content/drive/My Drive/FYP Dataset/Shoplifting/Shoplifting-1.mp4\n",
            "/content/drive/My Drive/FYP Dataset/Shoplifting/Shoplifting-2.mp4\n",
            "/content/drive/My Drive/FYP Dataset/Shoplifting/Shoplifting-23.mp4\n",
            "/content/drive/My Drive/FYP Dataset/Shoplifting/Shoplifting-24.mp4\n",
            "/content/drive/My Drive/FYP Dataset/Shoplifting/Shoplifting-25.mp4\n",
            "/content/drive/My Drive/FYP Dataset/Shoplifting/Shoplifting-26.mp4\n",
            "/content/drive/My Drive/FYP Dataset/Shoplifting/Shoplifting-27.mp4\n",
            "/content/drive/My Drive/FYP Dataset/Shoplifting/Shoplifting-28.mp4\n",
            "/content/drive/My Drive/FYP Dataset/Shoplifting/Shoplifting-29.mp4\n",
            "/content/drive/My Drive/FYP Dataset/Shoplifting/Shoplifting-49.mp4\n",
            "/content/drive/My Drive/FYP Dataset/Shoplifting/Shoplifting-50.mp4\n",
            "/content/drive/My Drive/FYP Dataset/Shoplifting/Shoplifting-52.mp4\n",
            "/content/drive/My Drive/FYP Dataset/Shoplifting/Shoplifting-51.mp4\n",
            "/content/drive/My Drive/FYP Dataset/Shoplifting/Shoplifting-53.mp4\n",
            "/content/drive/My Drive/FYP Dataset/Shoplifting/Shoplifting-55.mp4\n",
            "/content/drive/My Drive/FYP Dataset/Shoplifting/Shoplifting-56.mp4\n",
            "/content/drive/My Drive/FYP Dataset/Shoplifting/Shoplifting-57.mp4\n",
            "/content/drive/My Drive/FYP Dataset/Shoplifting/Shoplifting-58.mp4\n",
            "/content/drive/My Drive/FYP Dataset/Shoplifting/Shoplifting-59.mp4\n",
            "/content/drive/My Drive/FYP Dataset/Shoplifting/Shoplifting-60.mp4\n",
            "/content/drive/My Drive/FYP Dataset/Shoplifting/Shoplifting-62.mp4\n",
            "/content/drive/My Drive/FYP Dataset/Shoplifting/Shoplifting-61.mp4\n",
            "/content/drive/My Drive/FYP Dataset/Shoplifting/Shoplifting-63.mp4\n",
            "/content/drive/My Drive/FYP Dataset/Shoplifting/Shoplifting-64.mp4\n",
            "/content/drive/My Drive/FYP Dataset/Shoplifting/Shoplifting-65.mp4\n",
            "/content/drive/My Drive/FYP Dataset/Shoplifting/Shoplifting-66.mp4\n",
            "/content/drive/My Drive/FYP Dataset/Shoplifting/Shoplifting-67.mp4\n",
            "/content/drive/My Drive/FYP Dataset/Shoplifting/Shoplifting-68.mp4\n",
            "/content/drive/My Drive/FYP Dataset/Shoplifting/Shoplifting-69.mp4\n",
            "/content/drive/My Drive/FYP Dataset/Shoplifting/Shoplifting-70.mp4\n",
            "/content/drive/My Drive/FYP Dataset/Shoplifting/Shoplifting-71.mp4\n",
            "/content/drive/My Drive/FYP Dataset/Shoplifting/Shoplifting-72.mp4\n",
            "/content/drive/My Drive/FYP Dataset/Shoplifting/Shoplifting-54.mp4\n"
          ]
        }
      ],
      "source": [
        "# Step 1: Mount Google Drive\n",
        "from google.colab import drive\n",
        "drive.mount('/content/drive')\n",
        "\n",
        "# Step 2: Set the path to the FYP Dataset folder\n",
        "dataset_path = '/content/drive/My Drive/FYP Dataset'\n",
        "\n",
        "# Step 3: List all video files in the folder and its subfolders\n",
        "import os\n",
        "\n",
        "# Check if the folder exists\n",
        "if os.path.exists(dataset_path):\n",
        "    print(\"Dataset folder found!\")\n",
        "    # Walk through the folder recursively and collect video files\n",
        "    video_files = []\n",
        "    for root, dirs, files in os.walk(dataset_path):\n",
        "        for file in files:\n",
        "            if file.endswith(('.mp4', '.avi', '.mov', '.mkv')):\n",
        "                video_files.append(os.path.join(root, file))\n",
        "    print(f\"Found {len(video_files)} video files:\")\n",
        "    for video in video_files:\n",
        "        print(video)\n",
        "else:\n",
        "    print(\"Dataset folder not found! Check the path.\")\n"
      ]
    },
    {
      "cell_type": "code",
      "source": [
        "import numpy as np\n",
        "import pandas as pd\n",
        "import tensorflow as tf\n",
        "import matplotlib.pyplot as plt\n",
        "import seaborn as sns\n",
        "\n",
        "from sklearn.model_selection import train_test_split\n",
        "from sklearn.metrics import precision_recall_fscore_support\n",
        "from sklearn.metrics import confusion_matrix\n",
        "from tensorflow.keras.layers import Conv2D, MaxPooling2D, Flatten, Dense, Input\n",
        "from tensorflow.keras.models import Model\n",
        "\n",
        "import os\n",
        "import cv2\n",
        "import shutil"
      ],
      "metadata": {
        "id": "4PlwOSCsY1vb"
      },
      "execution_count": null,
      "outputs": []
    },
    {
      "cell_type": "code",
      "source": [
        "!pip install openpyxl\n"
      ],
      "metadata": {
        "id": "mMFTKe-Kf4Sc",
        "colab": {
          "base_uri": "https://localhost:8080/"
        },
        "outputId": "8c09fc59-94ff-45aa-b97b-21a45c99af7a"
      },
      "execution_count": null,
      "outputs": [
        {
          "output_type": "stream",
          "name": "stdout",
          "text": [
            "Collecting openpyxl\n",
            "  Downloading openpyxl-3.1.5-py2.py3-none-any.whl.metadata (2.5 kB)\n",
            "Collecting et-xmlfile (from openpyxl)\n",
            "  Downloading et_xmlfile-2.0.0-py3-none-any.whl.metadata (2.7 kB)\n",
            "Downloading openpyxl-3.1.5-py2.py3-none-any.whl (250 kB)\n",
            "\u001b[?25l   \u001b[90m━━━━━━━━━━━━━━━━━━━━━━━━━━━━━━━━━━━━━━━━\u001b[0m \u001b[32m0.0/250.9 kB\u001b[0m \u001b[31m?\u001b[0m eta \u001b[36m-:--:--\u001b[0m\r\u001b[2K   \u001b[91m━━━━━━━━━━━━━━━━━━━━━━\u001b[0m\u001b[91m╸\u001b[0m\u001b[90m━━━━━━━━━━━━━━━━━\u001b[0m \u001b[32m143.4/250.9 kB\u001b[0m \u001b[31m4.1 MB/s\u001b[0m eta \u001b[36m0:00:01\u001b[0m\r\u001b[2K   \u001b[90m━━━━━━━━━━━━━━━━━━━━━━━━━━━━━━━━━━━━━━━━\u001b[0m \u001b[32m250.9/250.9 kB\u001b[0m \u001b[31m4.2 MB/s\u001b[0m eta \u001b[36m0:00:00\u001b[0m\n",
            "\u001b[?25hDownloading et_xmlfile-2.0.0-py3-none-any.whl (18 kB)\n",
            "Installing collected packages: et-xmlfile, openpyxl\n",
            "Successfully installed et-xmlfile-2.0.0 openpyxl-3.1.5\n"
          ]
        }
      ]
    },
    {
      "cell_type": "code",
      "source": [
        "seed_constant = 27\n",
        "np.random.seed(seed_constant)\n",
        "tf.random.set_seed(seed_constant)"
      ],
      "metadata": {
        "id": "xTJ3-PVFY6bM"
      },
      "execution_count": null,
      "outputs": []
    },
    {
      "cell_type": "code",
      "source": [
        "dim = 256\n",
        "\n",
        "IMAGE_HEIGHT = dim\n",
        "IMAGE_WIDTH = dim\n",
        "\n",
        "# Specify the number of frames that will be fed to the Neural Network\n",
        "SEQUENCE_LENGTH = 60\n",
        "CLASSES_LIST = [\"0\",\"1\"]"
      ],
      "metadata": {
        "id": "Ak7SzLH0Y8Vf"
      },
      "execution_count": null,
      "outputs": []
    },
    {
      "cell_type": "code",
      "source": [
        "\n",
        "def frame_extraction(video_path):\n",
        "    \"\"\"\n",
        "    Extract a fixed number of frames (SEQUENCE_LENGTH) from the video.\n",
        "    \"\"\"\n",
        "    frame_list = []\n",
        "    frame_indices = []\n",
        "\n",
        "    video_capture = cv2.VideoCapture(video_path)\n",
        "    video_frame_count = int(video_capture.get(cv2.CAP_PROP_FRAME_COUNT))\n",
        "    skip_frame_window = max(int(video_frame_count / SEQUENCE_LENGTH), 1)\n",
        "\n",
        "    for frame_counter in range(SEQUENCE_LENGTH):\n",
        "        # Set the current frame position\n",
        "        current_frame_index = frame_counter * skip_frame_window\n",
        "        video_capture.set(cv2.CAP_PROP_POS_FRAMES, current_frame_index)\n",
        "\n",
        "        success, frame = video_capture.read()\n",
        "        if not success:\n",
        "            break\n",
        "\n",
        "        # Resize and normalize the frame\n",
        "        resized_frame = cv2.resize(frame, (IMAGE_HEIGHT, IMAGE_WIDTH))\n",
        "        normalized_frame = resized_frame / 255.0\n",
        "\n",
        "        frame_list.append(normalized_frame)\n",
        "        frame_indices.append(current_frame_index)\n",
        "\n",
        "    video_capture.release()\n",
        "    return frame_list, frame_indices"
      ],
      "metadata": {
        "id": "POY7aRe2Y-EY"
      },
      "execution_count": null,
      "outputs": []
    },
    {
      "cell_type": "code",
      "source": [
        "import os\n",
        "import pandas as pd\n",
        "import numpy as np\n",
        "\n",
        "def create_framewise_dataset():\n",
        "    \"\"\"\n",
        "    Create features and labels for frame-wise classification.\n",
        "    Process all videos in subfolders of FYP Dataset.\n",
        "    \"\"\"\n",
        "    dataset_path = '/content/drive/My Drive/FYP Dataset'\n",
        "    labels_csv_path = '/content/drive/My Drive/Labels_final_2.xlsx'\n",
        "\n",
        "    features = []\n",
        "    labels = []\n",
        "    video_file_paths = []\n",
        "\n",
        "    # Read the labels Excel file\n",
        "    labels_df = pd.read_excel(labels_csv_path)\n",
        "\n",
        "    # Strip any unwanted spaces from column names\n",
        "    labels_df.columns = labels_df.columns.str.strip()\n",
        "\n",
        "    # Check for necessary columns\n",
        "    required_columns = ['Video Name', 'Frame Index', 'Action']\n",
        "    for col in required_columns:\n",
        "        if col not in labels_df.columns:\n",
        "            raise ValueError(f\"Required column '{col}' is missing in Labels_final.xlsx!\")\n",
        "\n",
        "    # Define the specific order of subfolders\n",
        "    subfolder_order = ['Shoplifting']\n",
        "\n",
        "    # Get the paths of all subfolders\n",
        "    all_subfolders = {os.path.basename(f.path): f.path for f in os.scandir(dataset_path) if f.is_dir()}\n",
        "\n",
        "    # Process the subfolders in the specified order\n",
        "    for folder_name in subfolder_order:\n",
        "        subfolder = all_subfolders.get(folder_name)\n",
        "        if not subfolder:\n",
        "            print(f\"Subfolder {folder_name} not found in the dataset path!\")\n",
        "            continue\n",
        "\n",
        "        print(f\"Processing subfolder: {subfolder}\")\n",
        "\n",
        "        # Get all video files in the current subfolder\n",
        "        target_videos = [os.path.join(subfolder, file) for file in os.listdir(subfolder) if file.endswith('.mp4')]\n",
        "\n",
        "        # Proceed with dataset creation for all videos in the subfolder\n",
        "        for video_path in target_videos:\n",
        "            video_name = os.path.basename(video_path)\n",
        "\n",
        "            # Extract frames from the video (no sequences, individual frames)\n",
        "            frames, frame_indices = frame_extraction(video_path)\n",
        "\n",
        "            # Filter the labels for the current video\n",
        "            video_labels = labels_df[labels_df['Video Name'] == video_name]\n",
        "\n",
        "            # Debug: Print the frame indices extracted and those available in the labels CSV\n",
        "            print(f\"Processing video: {video_name}\")\n",
        "\n",
        "            # Align frames with labels based on frame_index\n",
        "            for idx, frame_index in enumerate(frame_indices):\n",
        "                # Find the matching label based on frame_index from labels.csv\n",
        "                matching_label = video_labels[video_labels['Frame Index'] == frame_index]\n",
        "\n",
        "                if len(matching_label) > 0:\n",
        "                    action_label = matching_label['Action'].values[0]  # Get the corresponding action label\n",
        "                    features.append(frames[idx])  # Append the current frame\n",
        "                    labels.append(action_label)   # Append the label for this frame\n",
        "                    video_file_paths.append(video_path)  # Append the video path for this frame\n",
        "\n",
        "    # Convert to NumPy arrays\n",
        "    features = np.asarray(features)\n",
        "    labels = np.asarray(labels)\n",
        "\n",
        "    print(\"Frame-wise dataset creation completed.\")\n",
        "    return features, labels, video_file_paths\n"
      ],
      "metadata": {
        "id": "Y7AwPSJ7znhe"
      },
      "execution_count": null,
      "outputs": []
    },
    {
      "cell_type": "code",
      "source": [
        "# create a dataset\n",
        "features, labels,video_file_paths = create_framewise_dataset()"
      ],
      "metadata": {
        "id": "x8bahLQQZRxz",
        "colab": {
          "base_uri": "https://localhost:8080/"
        },
        "outputId": "e27a7701-3764-4f5c-d666-cd3cf493f7bd"
      },
      "execution_count": null,
      "outputs": [
        {
          "output_type": "stream",
          "name": "stdout",
          "text": [
            "Processing subfolder: /content/drive/My Drive/FYP Dataset/Shoplifting\n",
            "Processing video: Shoplifting-112.mp4\n",
            "Processing video: Shoplifting-131.mp4\n",
            "Processing video: Shoplifting-115.mp4\n",
            "Processing video: Shoplifting-113.mp4\n",
            "Processing video: Shoplifting-114.mp4\n",
            "Processing video: Shoplifting-116.mp4\n",
            "Processing video: Shoplifting-118.mp4\n",
            "Processing video: Shoplifting-120.mp4\n",
            "Processing video: Shoplifting-117.mp4\n",
            "Processing video: Shoplifting-119.mp4\n",
            "Processing video: Shoplifting-121.mp4\n",
            "Processing video: Shoplifting-123.mp4\n",
            "Processing video: Shoplifting-132.mp4\n",
            "Processing video: Shoplifting-127.mp4\n",
            "Processing video: Shoplifting-122.mp4\n",
            "Processing video: Shoplifting-128.mp4\n",
            "Processing video: Shoplifting-126.mp4\n",
            "Processing video: Shoplifting-125.mp4\n",
            "Processing video: Shoplifting-124.mp4\n",
            "Processing video: Shoplifting-130.mp4\n",
            "Processing video: Shoplifting-129.mp4\n",
            "Processing video: Shoplifting-17.mp4\n",
            "Processing video: Shoplifting-18.mp4\n",
            "Processing video: Shoplifting-19.mp4\n",
            "Processing video: Shoplifting-20.mp4\n",
            "Processing video: Shoplifting-21.mp4\n",
            "Processing video: Shoplifting-22.mp4\n",
            "Processing video: Shoplifting-9.mp4\n",
            "Processing video: Shoplifting-10.mp4\n",
            "Processing video: Shoplifting-12.mp4\n",
            "Processing video: Shoplifting-7.mp4\n",
            "Processing video: Shoplifting-13.mp4\n",
            "Processing video: Shoplifting-8.mp4\n",
            "Processing video: Shoplifting-11.mp4\n",
            "Processing video: Shoplifting-14.mp4\n",
            "Processing video: Shoplifting-15.mp4\n",
            "Processing video: Shoplifting-16.mp4\n",
            "Processing video: Shoplifting-3.mp4\n",
            "Processing video: Shoplifting-4.mp4\n",
            "Processing video: Shoplifting-5.mp4\n",
            "Processing video: Shoplifting-6.mp4\n",
            "Processing video: Shoplifting-30.mp4\n",
            "Processing video: Shoplifting-31.mp4\n",
            "Processing video: Shoplifting-36.mp4\n",
            "Processing video: Shoplifting-37.mp4\n",
            "Processing video: Shoplifting-38.mp4\n",
            "Processing video: Shoplifting-34.mp4\n",
            "Processing video: Shoplifting-35.mp4\n",
            "Processing video: Shoplifting-39.mp4\n",
            "Processing video: Shoplifting-40.mp4\n",
            "Processing video: Shoplifting-43.mp4\n",
            "Processing video: Shoplifting-44.mp4\n",
            "Processing video: Shoplifting-45.mp4\n",
            "Processing video: Shoplifting-46.mp4\n",
            "Processing video: Shoplifting-32.mp4\n",
            "Processing video: Shoplifting-41.mp4\n",
            "Processing video: Shoplifting-42.mp4\n",
            "Processing video: Shoplifting-33.mp4\n",
            "Processing video: Shoplifting-73.mp4\n",
            "Processing video: Shoplifting-74.mp4\n",
            "Processing video: Shoplifting-48.mp4\n",
            "Processing video: Shoplifting-75.mp4\n",
            "Processing video: Shoplifting-76.mp4\n",
            "Processing video: Shoplifting-77.mp4\n",
            "Processing video: Shoplifting-78.mp4\n",
            "Processing video: Shoplifting-79.mp4\n",
            "Processing video: Shoplifting-80.mp4\n",
            "Processing video: Shoplifting-81.mp4\n",
            "Processing video: Shoplifting-82.mp4\n",
            "Processing video: Shoplifting-83.mp4\n",
            "Processing video: Shoplifting-84.mp4\n",
            "Processing video: Shoplifting-85.mp4\n",
            "Processing video: Shoplifting-86.mp4\n",
            "Processing video: Shoplifting-87.mp4\n",
            "Processing video: Shoplifting-88.mp4\n",
            "Processing video: Shoplifting-89.mp4\n",
            "Processing video: Shoplifting-90.mp4\n",
            "Processing video: Shoplifting-91.mp4\n",
            "Processing video: Shoplifting-92.mp4\n",
            "Processing video: Shoplifting-93.mp4\n",
            "Processing video: Shoplifting-94.mp4\n",
            "Processing video: Shoplifting-95.mp4\n",
            "Processing video: Shoplifting-96.mp4\n",
            "Processing video: Shoplifting-97.mp4\n",
            "Processing video: Shoplifting-98.mp4\n",
            "Processing video: Shoplifting-99.mp4\n",
            "Processing video: Shoplifting-100.mp4\n",
            "Processing video: Shoplifting-101.mp4\n",
            "Processing video: Shoplifting-102.mp4\n",
            "Processing video: Shoplifting-103.mp4\n",
            "Processing video: Shoplifting-104.mp4\n",
            "Processing video: Shoplifting-105.mp4\n",
            "Processing video: Shoplifting-106.mp4\n",
            "Processing video: Shoplifting-107.mp4\n",
            "Processing video: Shoplifting-108.mp4\n",
            "Processing video: Shoplifting-109.mp4\n",
            "Processing video: Shoplifting-110.mp4\n",
            "Processing video: Shoplifting-111.mp4\n",
            "Processing video: Shoplifting-1.mp4\n",
            "Processing video: Shoplifting-2.mp4\n",
            "Processing video: Shoplifting-23.mp4\n",
            "Processing video: Shoplifting-24.mp4\n",
            "Processing video: Shoplifting-25.mp4\n",
            "Processing video: Shoplifting-26.mp4\n",
            "Processing video: Shoplifting-27.mp4\n",
            "Processing video: Shoplifting-28.mp4\n",
            "Processing video: Shoplifting-29.mp4\n",
            "Processing video: Shoplifting-49.mp4\n",
            "Processing video: Shoplifting-50.mp4\n",
            "Processing video: Shoplifting-52.mp4\n",
            "Processing video: Shoplifting-51.mp4\n",
            "Processing video: Shoplifting-53.mp4\n",
            "Processing video: Shoplifting-55.mp4\n",
            "Processing video: Shoplifting-56.mp4\n",
            "Processing video: Shoplifting-57.mp4\n",
            "Processing video: Shoplifting-58.mp4\n",
            "Processing video: Shoplifting-59.mp4\n",
            "Processing video: Shoplifting-60.mp4\n",
            "Processing video: Shoplifting-62.mp4\n",
            "Processing video: Shoplifting-61.mp4\n",
            "Processing video: Shoplifting-63.mp4\n",
            "Processing video: Shoplifting-64.mp4\n",
            "Processing video: Shoplifting-65.mp4\n",
            "Processing video: Shoplifting-66.mp4\n",
            "Processing video: Shoplifting-67.mp4\n",
            "Processing video: Shoplifting-68.mp4\n",
            "Processing video: Shoplifting-69.mp4\n",
            "Processing video: Shoplifting-70.mp4\n",
            "Processing video: Shoplifting-71.mp4\n",
            "Processing video: Shoplifting-72.mp4\n",
            "Processing video: Shoplifting-54.mp4\n",
            "Frame-wise dataset creation completed.\n"
          ]
        }
      ]
    },
    {
      "cell_type": "code",
      "source": [
        "from keras.utils import to_categorical\n",
        "\n",
        "# One-hot encode the labels for frame-wise classification\n",
        "one_hot_encoded_labels = to_categorical(labels, num_classes=len(CLASSES_LIST))\n",
        "\n",
        "print(\"Shape of features:\", features.shape)  # (num_samples, IMAGE_HEIGHT, IMAGE_WIDTH, num_channels)\n",
        "print(\"Shape of one-hot encoded labels:\", one_hot_encoded_labels.shape)  # (num_samples, num_classes)\n"
      ],
      "metadata": {
        "id": "oVdR2lYCZV-p",
        "colab": {
          "base_uri": "https://localhost:8080/"
        },
        "outputId": "441f0d77-b82c-46a0-f7c2-343a037f1b1d"
      },
      "execution_count": null,
      "outputs": [
        {
          "output_type": "stream",
          "name": "stdout",
          "text": [
            "Shape of features: (7860, 256, 256, 3)\n",
            "Shape of one-hot encoded labels: (7860, 2)\n"
          ]
        }
      ]
    },
    {
      "cell_type": "code",
      "source": [
        "# Let's print the first few labels\n",
        "print(\"First 10 labels:\", labels[:100])  # Labels for the first 10 frames\n"
      ],
      "metadata": {
        "id": "9Y0NM7Y_2qGk",
        "colab": {
          "base_uri": "https://localhost:8080/"
        },
        "outputId": "57838e9a-0a10-427f-8987-ea32c90e2447"
      },
      "execution_count": null,
      "outputs": [
        {
          "output_type": "stream",
          "name": "stdout",
          "text": [
            "First 10 labels: [0 0 0 0 0 0 0 0 0 0 0 0 0 0 0 0 0 0 0 0 0 0 0 0 0 0 0 0 0 0 0 0 1 1 1 1 1\n",
            " 1 1 1 1 1 1 1 1 1 1 1 1 1 1 1 1 1 1 1 1 1 1 1 1 1 1 1 1 1 1 1 1 1 1 1 1 1\n",
            " 1 1 1 1 1 1 1 1 1 1 1 1 1 1 1 1 1 1 1 1 1 1 1 1 1 1]\n"
          ]
        }
      ]
    },
    {
      "cell_type": "code",
      "source": [
        "# Verifying label values (should be 0 or 1 if it's a binary classification problem)\n",
        "unique_labels = np.unique(labels)\n",
        "print(\"Unique labels:\", unique_labels)  # Should print [0, 1] if it's binary classification\n"
      ],
      "metadata": {
        "id": "YKvRz7DC2rqJ",
        "colab": {
          "base_uri": "https://localhost:8080/"
        },
        "outputId": "ebb919bb-988e-4531-cd72-e7a933b4dc2a"
      },
      "execution_count": null,
      "outputs": [
        {
          "output_type": "stream",
          "name": "stdout",
          "text": [
            "Unique labels: [0 1]\n"
          ]
        }
      ]
    },
    {
      "cell_type": "code",
      "source": [
        "from sklearn.model_selection import train_test_split\n",
        "\n",
        "# Assuming features and one_hot_encoded_labels have been prepared\n",
        "x_train, x_test, y_train, y_test = train_test_split(\n",
        "    features,\n",
        "    one_hot_encoded_labels,\n",
        "    test_size=0.25,\n",
        "    shuffle=True,\n",
        "    random_state=seed_constant\n",
        ")\n",
        "\n",
        "print(\"Training feature shape:\", x_train.shape)  # Shape of training data\n",
        "print(\"Testing feature shape:\", x_test.shape)      # Shape of testing data\n",
        "print(\"Training label shape:\", y_train.shape)      # Shape of training labels\n",
        "print(\"Testing label shape:\", y_test.shape)        # Shape of testing labels"
      ],
      "metadata": {
        "id": "HVdLn17dZXVG",
        "colab": {
          "base_uri": "https://localhost:8080/"
        },
        "outputId": "807c919b-1685-4536-e128-4852536fe1f3"
      },
      "execution_count": null,
      "outputs": [
        {
          "output_type": "stream",
          "name": "stdout",
          "text": [
            "Training feature shape: (5895, 256, 256, 3)\n",
            "Testing feature shape: (1965, 256, 256, 3)\n",
            "Training label shape: (5895, 2)\n",
            "Testing label shape: (1965, 2)\n"
          ]
        }
      ]
    },
    {
      "cell_type": "code",
      "source": [
        "from tensorflow.keras.layers import Input, Conv2D, MaxPooling2D, Dropout, Flatten, Dense\n",
        "from tensorflow.keras.models import Model\n",
        "\n",
        "# Define the input shape for each frame\n",
        "input_layer = Input(shape=(IMAGE_HEIGHT, IMAGE_WIDTH, 3))  # Each frame has height, width, and 3 color channels\n",
        "\n",
        "# Apply Convolutional layers for feature extraction\n",
        "conv1 = Conv2D(32, (3, 3), activation='relu')(input_layer)\n",
        "pool1 = MaxPooling2D((2, 2))(conv1)\n",
        "\n",
        "conv2 = Conv2D(64, (3, 3), activation='relu')(pool1)\n",
        "pool2 = MaxPooling2D((2, 2))(conv2)\n",
        "\n",
        "conv3 = Conv2D(128, (3, 3), activation='relu')(pool2)\n",
        "pool3 = MaxPooling2D((2, 2))(conv3)\n",
        "\n",
        "# Flatten the output for the fully connected layers\n",
        "flattened = Flatten()(pool3)\n",
        "\n",
        "# Dense layers for classification\n",
        "dense1 = Dense(128, activation='relu')(flattened)\n",
        "dropout = Dropout(0.5)(dense1)\n",
        "\n",
        "output = Dense(len(CLASSES_LIST), activation='softmax')(dropout)  # Adjust the output units based on your classes\n",
        "\n",
        "# Create the model\n",
        "model = Model(input_layer, output)"
      ],
      "metadata": {
        "id": "auFwCenaZZQJ"
      },
      "execution_count": null,
      "outputs": []
    },
    {
      "cell_type": "code",
      "source": [
        "model.summary()"
      ],
      "metadata": {
        "colab": {
          "base_uri": "https://localhost:8080/",
          "height": 481
        },
        "id": "YvhF6FgJKyKe",
        "outputId": "b3ac61a6-e289-4a15-f99e-f93ef1e9b986"
      },
      "execution_count": null,
      "outputs": [
        {
          "output_type": "display_data",
          "data": {
            "text/plain": [
              "\u001b[1mModel: \"functional\"\u001b[0m\n"
            ],
            "text/html": [
              "<pre style=\"white-space:pre;overflow-x:auto;line-height:normal;font-family:Menlo,'DejaVu Sans Mono',consolas,'Courier New',monospace\"><span style=\"font-weight: bold\">Model: \"functional\"</span>\n",
              "</pre>\n"
            ]
          },
          "metadata": {}
        },
        {
          "output_type": "display_data",
          "data": {
            "text/plain": [
              "┏━━━━━━━━━━━━━━━━━━━━━━━━━━━━━━━━━━━━━━┳━━━━━━━━━━━━━━━━━━━━━━━━━━━━━┳━━━━━━━━━━━━━━━━━┓\n",
              "┃\u001b[1m \u001b[0m\u001b[1mLayer (type)                        \u001b[0m\u001b[1m \u001b[0m┃\u001b[1m \u001b[0m\u001b[1mOutput Shape               \u001b[0m\u001b[1m \u001b[0m┃\u001b[1m \u001b[0m\u001b[1m        Param #\u001b[0m\u001b[1m \u001b[0m┃\n",
              "┡━━━━━━━━━━━━━━━━━━━━━━━━━━━━━━━━━━━━━━╇━━━━━━━━━━━━━━━━━━━━━━━━━━━━━╇━━━━━━━━━━━━━━━━━┩\n",
              "│ input_layer (\u001b[38;5;33mInputLayer\u001b[0m)             │ (\u001b[38;5;45mNone\u001b[0m, \u001b[38;5;34m256\u001b[0m, \u001b[38;5;34m256\u001b[0m, \u001b[38;5;34m3\u001b[0m)         │               \u001b[38;5;34m0\u001b[0m │\n",
              "├──────────────────────────────────────┼─────────────────────────────┼─────────────────┤\n",
              "│ conv2d (\u001b[38;5;33mConv2D\u001b[0m)                      │ (\u001b[38;5;45mNone\u001b[0m, \u001b[38;5;34m254\u001b[0m, \u001b[38;5;34m254\u001b[0m, \u001b[38;5;34m32\u001b[0m)        │             \u001b[38;5;34m896\u001b[0m │\n",
              "├──────────────────────────────────────┼─────────────────────────────┼─────────────────┤\n",
              "│ max_pooling2d (\u001b[38;5;33mMaxPooling2D\u001b[0m)         │ (\u001b[38;5;45mNone\u001b[0m, \u001b[38;5;34m127\u001b[0m, \u001b[38;5;34m127\u001b[0m, \u001b[38;5;34m32\u001b[0m)        │               \u001b[38;5;34m0\u001b[0m │\n",
              "├──────────────────────────────────────┼─────────────────────────────┼─────────────────┤\n",
              "│ conv2d_1 (\u001b[38;5;33mConv2D\u001b[0m)                    │ (\u001b[38;5;45mNone\u001b[0m, \u001b[38;5;34m125\u001b[0m, \u001b[38;5;34m125\u001b[0m, \u001b[38;5;34m64\u001b[0m)        │          \u001b[38;5;34m18,496\u001b[0m │\n",
              "├──────────────────────────────────────┼─────────────────────────────┼─────────────────┤\n",
              "│ max_pooling2d_1 (\u001b[38;5;33mMaxPooling2D\u001b[0m)       │ (\u001b[38;5;45mNone\u001b[0m, \u001b[38;5;34m62\u001b[0m, \u001b[38;5;34m62\u001b[0m, \u001b[38;5;34m64\u001b[0m)          │               \u001b[38;5;34m0\u001b[0m │\n",
              "├──────────────────────────────────────┼─────────────────────────────┼─────────────────┤\n",
              "│ conv2d_2 (\u001b[38;5;33mConv2D\u001b[0m)                    │ (\u001b[38;5;45mNone\u001b[0m, \u001b[38;5;34m60\u001b[0m, \u001b[38;5;34m60\u001b[0m, \u001b[38;5;34m128\u001b[0m)         │          \u001b[38;5;34m73,856\u001b[0m │\n",
              "├──────────────────────────────────────┼─────────────────────────────┼─────────────────┤\n",
              "│ max_pooling2d_2 (\u001b[38;5;33mMaxPooling2D\u001b[0m)       │ (\u001b[38;5;45mNone\u001b[0m, \u001b[38;5;34m30\u001b[0m, \u001b[38;5;34m30\u001b[0m, \u001b[38;5;34m128\u001b[0m)         │               \u001b[38;5;34m0\u001b[0m │\n",
              "├──────────────────────────────────────┼─────────────────────────────┼─────────────────┤\n",
              "│ flatten (\u001b[38;5;33mFlatten\u001b[0m)                    │ (\u001b[38;5;45mNone\u001b[0m, \u001b[38;5;34m115200\u001b[0m)              │               \u001b[38;5;34m0\u001b[0m │\n",
              "├──────────────────────────────────────┼─────────────────────────────┼─────────────────┤\n",
              "│ dense (\u001b[38;5;33mDense\u001b[0m)                        │ (\u001b[38;5;45mNone\u001b[0m, \u001b[38;5;34m128\u001b[0m)                 │      \u001b[38;5;34m14,745,728\u001b[0m │\n",
              "├──────────────────────────────────────┼─────────────────────────────┼─────────────────┤\n",
              "│ dropout (\u001b[38;5;33mDropout\u001b[0m)                    │ (\u001b[38;5;45mNone\u001b[0m, \u001b[38;5;34m128\u001b[0m)                 │               \u001b[38;5;34m0\u001b[0m │\n",
              "├──────────────────────────────────────┼─────────────────────────────┼─────────────────┤\n",
              "│ dense_1 (\u001b[38;5;33mDense\u001b[0m)                      │ (\u001b[38;5;45mNone\u001b[0m, \u001b[38;5;34m2\u001b[0m)                   │             \u001b[38;5;34m258\u001b[0m │\n",
              "└──────────────────────────────────────┴─────────────────────────────┴─────────────────┘\n"
            ],
            "text/html": [
              "<pre style=\"white-space:pre;overflow-x:auto;line-height:normal;font-family:Menlo,'DejaVu Sans Mono',consolas,'Courier New',monospace\">┏━━━━━━━━━━━━━━━━━━━━━━━━━━━━━━━━━━━━━━┳━━━━━━━━━━━━━━━━━━━━━━━━━━━━━┳━━━━━━━━━━━━━━━━━┓\n",
              "┃<span style=\"font-weight: bold\"> Layer (type)                         </span>┃<span style=\"font-weight: bold\"> Output Shape                </span>┃<span style=\"font-weight: bold\">         Param # </span>┃\n",
              "┡━━━━━━━━━━━━━━━━━━━━━━━━━━━━━━━━━━━━━━╇━━━━━━━━━━━━━━━━━━━━━━━━━━━━━╇━━━━━━━━━━━━━━━━━┩\n",
              "│ input_layer (<span style=\"color: #0087ff; text-decoration-color: #0087ff\">InputLayer</span>)             │ (<span style=\"color: #00d7ff; text-decoration-color: #00d7ff\">None</span>, <span style=\"color: #00af00; text-decoration-color: #00af00\">256</span>, <span style=\"color: #00af00; text-decoration-color: #00af00\">256</span>, <span style=\"color: #00af00; text-decoration-color: #00af00\">3</span>)         │               <span style=\"color: #00af00; text-decoration-color: #00af00\">0</span> │\n",
              "├──────────────────────────────────────┼─────────────────────────────┼─────────────────┤\n",
              "│ conv2d (<span style=\"color: #0087ff; text-decoration-color: #0087ff\">Conv2D</span>)                      │ (<span style=\"color: #00d7ff; text-decoration-color: #00d7ff\">None</span>, <span style=\"color: #00af00; text-decoration-color: #00af00\">254</span>, <span style=\"color: #00af00; text-decoration-color: #00af00\">254</span>, <span style=\"color: #00af00; text-decoration-color: #00af00\">32</span>)        │             <span style=\"color: #00af00; text-decoration-color: #00af00\">896</span> │\n",
              "├──────────────────────────────────────┼─────────────────────────────┼─────────────────┤\n",
              "│ max_pooling2d (<span style=\"color: #0087ff; text-decoration-color: #0087ff\">MaxPooling2D</span>)         │ (<span style=\"color: #00d7ff; text-decoration-color: #00d7ff\">None</span>, <span style=\"color: #00af00; text-decoration-color: #00af00\">127</span>, <span style=\"color: #00af00; text-decoration-color: #00af00\">127</span>, <span style=\"color: #00af00; text-decoration-color: #00af00\">32</span>)        │               <span style=\"color: #00af00; text-decoration-color: #00af00\">0</span> │\n",
              "├──────────────────────────────────────┼─────────────────────────────┼─────────────────┤\n",
              "│ conv2d_1 (<span style=\"color: #0087ff; text-decoration-color: #0087ff\">Conv2D</span>)                    │ (<span style=\"color: #00d7ff; text-decoration-color: #00d7ff\">None</span>, <span style=\"color: #00af00; text-decoration-color: #00af00\">125</span>, <span style=\"color: #00af00; text-decoration-color: #00af00\">125</span>, <span style=\"color: #00af00; text-decoration-color: #00af00\">64</span>)        │          <span style=\"color: #00af00; text-decoration-color: #00af00\">18,496</span> │\n",
              "├──────────────────────────────────────┼─────────────────────────────┼─────────────────┤\n",
              "│ max_pooling2d_1 (<span style=\"color: #0087ff; text-decoration-color: #0087ff\">MaxPooling2D</span>)       │ (<span style=\"color: #00d7ff; text-decoration-color: #00d7ff\">None</span>, <span style=\"color: #00af00; text-decoration-color: #00af00\">62</span>, <span style=\"color: #00af00; text-decoration-color: #00af00\">62</span>, <span style=\"color: #00af00; text-decoration-color: #00af00\">64</span>)          │               <span style=\"color: #00af00; text-decoration-color: #00af00\">0</span> │\n",
              "├──────────────────────────────────────┼─────────────────────────────┼─────────────────┤\n",
              "│ conv2d_2 (<span style=\"color: #0087ff; text-decoration-color: #0087ff\">Conv2D</span>)                    │ (<span style=\"color: #00d7ff; text-decoration-color: #00d7ff\">None</span>, <span style=\"color: #00af00; text-decoration-color: #00af00\">60</span>, <span style=\"color: #00af00; text-decoration-color: #00af00\">60</span>, <span style=\"color: #00af00; text-decoration-color: #00af00\">128</span>)         │          <span style=\"color: #00af00; text-decoration-color: #00af00\">73,856</span> │\n",
              "├──────────────────────────────────────┼─────────────────────────────┼─────────────────┤\n",
              "│ max_pooling2d_2 (<span style=\"color: #0087ff; text-decoration-color: #0087ff\">MaxPooling2D</span>)       │ (<span style=\"color: #00d7ff; text-decoration-color: #00d7ff\">None</span>, <span style=\"color: #00af00; text-decoration-color: #00af00\">30</span>, <span style=\"color: #00af00; text-decoration-color: #00af00\">30</span>, <span style=\"color: #00af00; text-decoration-color: #00af00\">128</span>)         │               <span style=\"color: #00af00; text-decoration-color: #00af00\">0</span> │\n",
              "├──────────────────────────────────────┼─────────────────────────────┼─────────────────┤\n",
              "│ flatten (<span style=\"color: #0087ff; text-decoration-color: #0087ff\">Flatten</span>)                    │ (<span style=\"color: #00d7ff; text-decoration-color: #00d7ff\">None</span>, <span style=\"color: #00af00; text-decoration-color: #00af00\">115200</span>)              │               <span style=\"color: #00af00; text-decoration-color: #00af00\">0</span> │\n",
              "├──────────────────────────────────────┼─────────────────────────────┼─────────────────┤\n",
              "│ dense (<span style=\"color: #0087ff; text-decoration-color: #0087ff\">Dense</span>)                        │ (<span style=\"color: #00d7ff; text-decoration-color: #00d7ff\">None</span>, <span style=\"color: #00af00; text-decoration-color: #00af00\">128</span>)                 │      <span style=\"color: #00af00; text-decoration-color: #00af00\">14,745,728</span> │\n",
              "├──────────────────────────────────────┼─────────────────────────────┼─────────────────┤\n",
              "│ dropout (<span style=\"color: #0087ff; text-decoration-color: #0087ff\">Dropout</span>)                    │ (<span style=\"color: #00d7ff; text-decoration-color: #00d7ff\">None</span>, <span style=\"color: #00af00; text-decoration-color: #00af00\">128</span>)                 │               <span style=\"color: #00af00; text-decoration-color: #00af00\">0</span> │\n",
              "├──────────────────────────────────────┼─────────────────────────────┼─────────────────┤\n",
              "│ dense_1 (<span style=\"color: #0087ff; text-decoration-color: #0087ff\">Dense</span>)                      │ (<span style=\"color: #00d7ff; text-decoration-color: #00d7ff\">None</span>, <span style=\"color: #00af00; text-decoration-color: #00af00\">2</span>)                   │             <span style=\"color: #00af00; text-decoration-color: #00af00\">258</span> │\n",
              "└──────────────────────────────────────┴─────────────────────────────┴─────────────────┘\n",
              "</pre>\n"
            ]
          },
          "metadata": {}
        },
        {
          "output_type": "display_data",
          "data": {
            "text/plain": [
              "\u001b[1m Total params: \u001b[0m\u001b[38;5;34m14,839,234\u001b[0m (56.61 MB)\n"
            ],
            "text/html": [
              "<pre style=\"white-space:pre;overflow-x:auto;line-height:normal;font-family:Menlo,'DejaVu Sans Mono',consolas,'Courier New',monospace\"><span style=\"font-weight: bold\"> Total params: </span><span style=\"color: #00af00; text-decoration-color: #00af00\">14,839,234</span> (56.61 MB)\n",
              "</pre>\n"
            ]
          },
          "metadata": {}
        },
        {
          "output_type": "display_data",
          "data": {
            "text/plain": [
              "\u001b[1m Trainable params: \u001b[0m\u001b[38;5;34m14,839,234\u001b[0m (56.61 MB)\n"
            ],
            "text/html": [
              "<pre style=\"white-space:pre;overflow-x:auto;line-height:normal;font-family:Menlo,'DejaVu Sans Mono',consolas,'Courier New',monospace\"><span style=\"font-weight: bold\"> Trainable params: </span><span style=\"color: #00af00; text-decoration-color: #00af00\">14,839,234</span> (56.61 MB)\n",
              "</pre>\n"
            ]
          },
          "metadata": {}
        },
        {
          "output_type": "display_data",
          "data": {
            "text/plain": [
              "\u001b[1m Non-trainable params: \u001b[0m\u001b[38;5;34m0\u001b[0m (0.00 B)\n"
            ],
            "text/html": [
              "<pre style=\"white-space:pre;overflow-x:auto;line-height:normal;font-family:Menlo,'DejaVu Sans Mono',consolas,'Courier New',monospace\"><span style=\"font-weight: bold\"> Non-trainable params: </span><span style=\"color: #00af00; text-decoration-color: #00af00\">0</span> (0.00 B)\n",
              "</pre>\n"
            ]
          },
          "metadata": {}
        }
      ]
    },
    {
      "cell_type": "code",
      "source": [
        "early_stopping_callback = EarlyStopping(monitor='val_loss',patience=10,mode='min',restore_best_weights=True)"
      ],
      "metadata": {
        "id": "psHILPuJZdSg"
      },
      "execution_count": null,
      "outputs": []
    },
    {
      "cell_type": "code",
      "source": [
        "import tensorflow as tf\n",
        "tf.config.run_functions_eagerly(True)"
      ],
      "metadata": {
        "id": "5aFgZx7cV1-P"
      },
      "execution_count": null,
      "outputs": []
    },
    {
      "cell_type": "code",
      "source": [
        "model.compile(optimizer='adam', loss='categorical_crossentropy', metrics=['accuracy'])"
      ],
      "metadata": {
        "id": "RPIpGiumZfHT"
      },
      "execution_count": null,
      "outputs": []
    },
    {
      "cell_type": "code",
      "source": [
        "print(x_train.shape)  # Should match the input shape of the model\n",
        "print(y_train.shape)  # Should match the output classes"
      ],
      "metadata": {
        "id": "-q7R8DslFYgY",
        "colab": {
          "base_uri": "https://localhost:8080/"
        },
        "outputId": "6892b8ec-4c63-4e4b-a692-c0cfe1fd40cc"
      },
      "execution_count": null,
      "outputs": [
        {
          "output_type": "stream",
          "name": "stdout",
          "text": [
            "(5895, 256, 256, 3)\n",
            "(5895, 2)\n"
          ]
        }
      ]
    },
    {
      "cell_type": "code",
      "source": [
        "print(f\"x_train shape: {x_train.shape}\")  # Should be (batch_size, 60, num_features)\n",
        "print(f\"y_train shape: {y_train.shape}\")  # Should be (batch_size, 60, 2)\n",
        "print(f\"Model output shape: {model.output_shape}\")"
      ],
      "metadata": {
        "colab": {
          "base_uri": "https://localhost:8080/"
        },
        "id": "97loq2sMrrXV",
        "outputId": "d6bb9e6e-757f-4cf5-c67b-12e547b9c314"
      },
      "execution_count": null,
      "outputs": [
        {
          "output_type": "stream",
          "name": "stdout",
          "text": [
            "x_train shape: (5895, 256, 256, 3)\n",
            "y_train shape: (5895, 2)\n",
            "Model output shape: (None, 2)\n"
          ]
        }
      ]
    },
    {
      "cell_type": "code",
      "source": [
        "history = model.fit(x_train, y_train, epochs=4, batch_size=4, shuffle=True, validation_split=0.2)"
      ],
      "metadata": {
        "colab": {
          "base_uri": "https://localhost:8080/"
        },
        "id": "wxa17wUyK_sa",
        "outputId": "d119bfd3-90e4-426f-9c56-e57b78b4fe26"
      },
      "execution_count": null,
      "outputs": [
        {
          "output_type": "stream",
          "name": "stderr",
          "text": [
            "/usr/local/lib/python3.11/dist-packages/tensorflow/python/data/ops/structured_function.py:258: UserWarning: Even though the `tf.config.experimental_run_functions_eagerly` option is set, this option does not apply to tf.data functions. To force eager execution of tf.data functions, please use `tf.data.experimental.enable_debug_mode()`.\n",
            "  warnings.warn(\n"
          ]
        },
        {
          "output_type": "stream",
          "name": "stdout",
          "text": [
            "Epoch 1/4\n",
            "\u001b[1m1179/1179\u001b[0m \u001b[32m━━━━━━━━━━━━━━━━━━━━\u001b[0m\u001b[37m\u001b[0m \u001b[1m1278s\u001b[0m 1s/step - accuracy: 0.6205 - loss: 0.6966 - val_accuracy: 0.7167 - val_loss: 0.6031\n",
            "Epoch 2/4\n",
            "\u001b[1m1179/1179\u001b[0m \u001b[32m━━━━━━━━━━━━━━━━━━━━\u001b[0m\u001b[37m\u001b[0m \u001b[1m1277s\u001b[0m 1s/step - accuracy: 0.7090 - loss: 0.5894 - val_accuracy: 0.7371 - val_loss: 0.5189\n",
            "Epoch 3/4\n",
            "\u001b[1m1179/1179\u001b[0m \u001b[32m━━━━━━━━━━━━━━━━━━━━\u001b[0m\u001b[37m\u001b[0m \u001b[1m1274s\u001b[0m 1s/step - accuracy: 0.7614 - loss: 0.4968 - val_accuracy: 0.8193 - val_loss: 0.3962\n",
            "Epoch 4/4\n",
            "\u001b[1m1179/1179\u001b[0m \u001b[32m━━━━━━━━━━━━━━━━━━━━\u001b[0m\u001b[37m\u001b[0m \u001b[1m1276s\u001b[0m 1s/step - accuracy: 0.8383 - loss: 0.3537 - val_accuracy: 0.8643 - val_loss: 0.3479\n"
          ]
        }
      ]
    },
    {
      "cell_type": "code",
      "source": [
        "history = model.fit(x_train,y_train,epochs=2,batch_size=4,shuffle=True, validation_split=0.2,callbacks=[early_stopping_callback])"
      ],
      "metadata": {
        "id": "nbnfUAXBZgx7"
      },
      "execution_count": null,
      "outputs": []
    },
    {
      "cell_type": "code",
      "source": [
        "loss,accuracy = model.evaluate(x_test,y_test)\n",
        "\n",
        "print(\"Loss : \",loss)\n",
        "print(\"Accuracy : \",accuracy)"
      ],
      "metadata": {
        "id": "qavTnaokZ2DN",
        "colab": {
          "base_uri": "https://localhost:8080/"
        },
        "outputId": "13f35594-2469-4ed4-a1a1-65c3edeb475b"
      },
      "execution_count": null,
      "outputs": [
        {
          "output_type": "stream",
          "name": "stdout",
          "text": [
            "\u001b[1m62/62\u001b[0m \u001b[32m━━━━━━━━━━━━━━━━━━━━\u001b[0m\u001b[37m\u001b[0m \u001b[1m67s\u001b[0m 1s/step - accuracy: 0.8663 - loss: 0.3387\n",
            "Loss :  0.3451676368713379\n",
            "Accuracy :  0.8666666746139526\n"
          ]
        }
      ]
    },
    {
      "cell_type": "code",
      "source": [
        "# Plotting loss curve for training and validation set\n",
        "\n",
        "def plot_curve(model_training_history,metric_name_1,metric_name_2,plot_name):\n",
        "\n",
        "    metric1 = model_training_history.history[metric_name_1]\n",
        "    metric2 = model_training_history.history[metric_name_2]\n",
        "    plt.plot(metric1,color='blue',label=metric_name_1)\n",
        "    plt.plot(metric2,color='red',label=metric_name_2)\n",
        "    plt.title(str(plot_name))\n",
        "    plt.legend()\n",
        "    plt.show()"
      ],
      "metadata": {
        "id": "0JNvI9PjZ4HL"
      },
      "execution_count": null,
      "outputs": []
    },
    {
      "cell_type": "code",
      "source": [
        "plot_curve(history,'loss','val_loss',\"Total loss vs Total validation loss\")"
      ],
      "metadata": {
        "id": "-BOR8hogZ6Bd",
        "colab": {
          "base_uri": "https://localhost:8080/",
          "height": 452
        },
        "outputId": "7f1b2d16-839a-48c2-d7f0-10432d4b5659"
      },
      "execution_count": null,
      "outputs": [
        {
          "output_type": "display_data",
          "data": {
            "text/plain": [
              "<Figure size 640x480 with 1 Axes>"
            ],
            "image/png": "[encoded data removed]"
          },
          "metadata": {}
        }
      ]
    },
    {
      "cell_type": "code",
      "source": [
        "predictions = model.predict(x_test)\n",
        "\n",
        "# Assuming predictions are in probability form and you need to convert them to binary labels\n",
        "binary_predictions = (predictions > 0.5).astype('int32')\n",
        "\n",
        "# Calculate precision, recall, and F1 score\n",
        "precision, recall, f1_score, _ = precision_recall_fscore_support(y_test, binary_predictions, average=None)\n",
        "\n",
        "print(\"Precision:\", precision)\n",
        "print(\"Recall:\", recall)\n",
        "print(\"F1 Score:\", f1_score)"
      ],
      "metadata": {
        "id": "OftNLzITZ8EM",
        "colab": {
          "base_uri": "https://localhost:8080/"
        },
        "outputId": "c58b6471-fac4-4dcf-a38f-60ed746b210a"
      },
      "execution_count": null,
      "outputs": [
        {
          "output_type": "stream",
          "name": "stdout",
          "text": [
            "\u001b[1m62/62\u001b[0m \u001b[32m━━━━━━━━━━━━━━━━━━━━\u001b[0m\u001b[37m\u001b[0m \u001b[1m65s\u001b[0m 1s/step\n",
            "Precision: [0.86311239 0.87521664]\n",
            "Recall: [0.94330709 0.72661871]\n",
            "F1 Score: [0.90142965 0.79402516]\n"
          ]
        }
      ]
    },
    {
      "cell_type": "code",
      "source": [
        "predicted_labels = np.argmax(predictions, axis=1)\n",
        "true_labels = np.argmax(y_test, axis=1)  # Assuming test_Y is one-hot encoded\n",
        "conf_matrix = confusion_matrix(true_labels, predicted_labels)"
      ],
      "metadata": {
        "id": "Hw63uSsxZ-S9"
      },
      "execution_count": null,
      "outputs": []
    },
    {
      "cell_type": "code",
      "source": [
        "plt.figure(figsize=(8, 6))\n",
        "sns.heatmap(conf_matrix, annot=True, fmt='d', cmap='Blues')\n",
        "plt.xlabel('Predicted labels')\n",
        "plt.ylabel('True labels')\n",
        "plt.title('Confusion Matrix')\n",
        "plt.show()"
      ],
      "metadata": {
        "id": "fiRdoq8RaAeE",
        "colab": {
          "base_uri": "https://localhost:8080/",
          "height": 564
        },
        "outputId": "548059cb-9b91-4b34-f519-ffad5cd0cff0"
      },
      "execution_count": null,
      "outputs": [
        {
          "output_type": "display_data",
          "data": {
            "text/plain": [
              "<Figure size 800x600 with 2 Axes>"
            ],
            "image/png": "[encoded data removed]"
          },
          "metadata": {}
        }
      ]
    },
    {
      "cell_type": "code",
      "source": [
        "# Save the model in .h5 format\n",
        "model_path = '/content/drive/My Drive/60_model_bs_256_frame2.h5'\n",
        "model.save(model_path)\n",
        "\n",
        "print(f\"Model saved to {model_path}\")\n"
      ],
      "metadata": {
        "id": "6zTrdCrHaEdy",
        "colab": {
          "base_uri": "https://localhost:8080/"
        },
        "outputId": "632a27a5-1b28-446f-8a39-e4fae97fe5b4"
      },
      "execution_count": null,
      "outputs": [
        {
          "output_type": "stream",
          "name": "stderr",
          "text": [
            "WARNING:absl:You are saving your model as an HDF5 file via `model.save()` or `keras.saving.save_model(model)`. This file format is considered legacy. We recommend using instead the native Keras format, e.g. `model.save('my_model.keras')` or `keras.saving.save_model(model, 'my_model.keras')`. \n"
          ]
        },
        {
          "output_type": "stream",
          "name": "stdout",
          "text": [
            "Model saved to /content/drive/My Drive/60_model_bs_256_frame2.h5\n"
          ]
        }
      ]
    }
  ]
}