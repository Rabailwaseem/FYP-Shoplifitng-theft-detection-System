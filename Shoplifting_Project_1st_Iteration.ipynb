{
  "nbformat": 4,
  "nbformat_minor": 0,
  "metadata": {
    "colab": {
      "provenance": [],
      "include_colab_link": true
    },
    "kernelspec": {
      "name": "python3",
      "display_name": "Python 3"
    },
    "language_info": {
      "name": "python"
    }
  },
  "cells": [
    {
      "cell_type": "markdown",
      "metadata": {
        "id": "view-in-github",
        "colab_type": "text"
      },
      "source": [
        "<a href=\"https://colab.research.google.com/github/AfifaMasood/AfifaMasood/blob/main/Shoplifting_Project_1st_Iteration.ipynb\" target=\"_parent\"><img src=\"https://colab.research.google.com/assets/colab-badge.svg\" alt=\"Open In Colab\"/></a>"
      ]
    },
    {
      "cell_type": "code",
      "execution_count": null,
      "metadata": {
        "id": "-cMODOlQdOdy",
        "colab": {
          "base_uri": "https://localhost:8080/"
        },
        "outputId": "8fcf8453-44ab-4e96-f905-c81774bdb15e"
      },
      "outputs": [
        {
          "output_type": "stream",
          "name": "stdout",
          "text": [
            "Mounted at /content/drive\n",
            "Dataset folder found!\n",
            "Found 263 video files:\n",
            "/content/drive/My Drive/FYP Dataset/Normal/Normal-6.mp4\n",
            "/content/drive/My Drive/FYP Dataset/Normal/Normal-3.mp4\n",
            "/content/drive/My Drive/FYP Dataset/Normal/Normal-7.mp4\n",
            "/content/drive/My Drive/FYP Dataset/Normal/Normal-10.mp4\n",
            "/content/drive/My Drive/FYP Dataset/Normal/Normal-5.mp4\n",
            "/content/drive/My Drive/FYP Dataset/Normal/Normal-4.mp4\n",
            "/content/drive/My Drive/FYP Dataset/Normal/Normal-2.mp4\n",
            "/content/drive/My Drive/FYP Dataset/Normal/Normal-9.mp4\n",
            "/content/drive/My Drive/FYP Dataset/Normal/Normal-11.mp4\n",
            "/content/drive/My Drive/FYP Dataset/Normal/Normal-1.mp4\n",
            "/content/drive/My Drive/FYP Dataset/Normal/Normal-12.mp4\n",
            "/content/drive/My Drive/FYP Dataset/Normal/Normal-21.mp4\n",
            "/content/drive/My Drive/FYP Dataset/Normal/Normal-14.mp4\n",
            "/content/drive/My Drive/FYP Dataset/Normal/Normal-13.mp4\n",
            "/content/drive/My Drive/FYP Dataset/Normal/Normal-16.mp4\n",
            "/content/drive/My Drive/FYP Dataset/Normal/Normal-20.mp4\n",
            "/content/drive/My Drive/FYP Dataset/Normal/Normal-18.mp4\n",
            "/content/drive/My Drive/FYP Dataset/Normal/Normal-15.mp4\n",
            "/content/drive/My Drive/FYP Dataset/Normal/Normal-19.mp4\n",
            "/content/drive/My Drive/FYP Dataset/Normal/Normal-17.mp4\n",
            "/content/drive/My Drive/FYP Dataset/Normal/Normal-33.mp4\n",
            "/content/drive/My Drive/FYP Dataset/Normal/Normal-22.mp4\n",
            "/content/drive/My Drive/FYP Dataset/Normal/Normal-28.mp4\n",
            "/content/drive/My Drive/FYP Dataset/Normal/Normal-25.mp4\n",
            "/content/drive/My Drive/FYP Dataset/Normal/Normal-31.mp4\n",
            "/content/drive/My Drive/FYP Dataset/Normal/Normal-23.mp4\n",
            "/content/drive/My Drive/FYP Dataset/Normal/Normal-29.mp4\n",
            "/content/drive/My Drive/FYP Dataset/Normal/Normal-24.mp4\n",
            "/content/drive/My Drive/FYP Dataset/Normal/Normal-30.mp4\n",
            "/content/drive/My Drive/FYP Dataset/Normal/Normal-26.mp4\n",
            "/content/drive/My Drive/FYP Dataset/Normal/Normal-27.mp4\n",
            "/content/drive/My Drive/FYP Dataset/Normal/Normal-32.mp4\n",
            "/content/drive/My Drive/FYP Dataset/Normal/Normal-37.mp4\n",
            "/content/drive/My Drive/FYP Dataset/Normal/Normal-39.mp4\n",
            "/content/drive/My Drive/FYP Dataset/Normal/Normal-40.mp4\n",
            "/content/drive/My Drive/FYP Dataset/Normal/Normal-34.mp4\n",
            "/content/drive/My Drive/FYP Dataset/Normal/Normal-35.mp4\n",
            "/content/drive/My Drive/FYP Dataset/Normal/Normal-36.mp4\n",
            "/content/drive/My Drive/FYP Dataset/Normal/Normal-38.mp4\n",
            "/content/drive/My Drive/FYP Dataset/Normal/Normal-126.mp4\n",
            "/content/drive/My Drive/FYP Dataset/Normal/Normal-122.mp4\n",
            "/content/drive/My Drive/FYP Dataset/Normal/Normal-123.mp4\n",
            "/content/drive/My Drive/FYP Dataset/Normal/Normal-121.mp4\n",
            "/content/drive/My Drive/FYP Dataset/Normal/Normal-125.mp4\n",
            "/content/drive/My Drive/FYP Dataset/Normal/Normal-124.mp4\n",
            "/content/drive/My Drive/FYP Dataset/Normal/Normal-41.mp4\n",
            "/content/drive/My Drive/FYP Dataset/Normal/Normal-47.mp4\n",
            "/content/drive/My Drive/FYP Dataset/Normal/Normal-43.mp4\n",
            "/content/drive/My Drive/FYP Dataset/Normal/Normal-44.mp4\n",
            "/content/drive/My Drive/FYP Dataset/Normal/Normal-42.mp4\n",
            "/content/drive/My Drive/FYP Dataset/Normal/Normal-48.mp4\n",
            "/content/drive/My Drive/FYP Dataset/Normal/Normal-46.mp4\n",
            "/content/drive/My Drive/FYP Dataset/Normal/Normal-45.mp4\n",
            "/content/drive/My Drive/FYP Dataset/Normal/Normal-49.mp4\n",
            "/content/drive/My Drive/FYP Dataset/Normal/Normal-50.mp4\n",
            "/content/drive/My Drive/FYP Dataset/Normal/Normal-52.mp4\n",
            "/content/drive/My Drive/FYP Dataset/Normal/Normal-54.mp4\n",
            "/content/drive/My Drive/FYP Dataset/Normal/Normal-51.mp4\n",
            "/content/drive/My Drive/FYP Dataset/Normal/Normal-53.mp4\n",
            "/content/drive/My Drive/FYP Dataset/Normal/Normal-61.mp4\n",
            "/content/drive/My Drive/FYP Dataset/Normal/Normal-60.mp4\n",
            "/content/drive/My Drive/FYP Dataset/Normal/Normal-57.mp4\n",
            "/content/drive/My Drive/FYP Dataset/Normal/Normal-58.mp4\n",
            "/content/drive/My Drive/FYP Dataset/Normal/Normal-59.mp4\n",
            "/content/drive/My Drive/FYP Dataset/Normal/Normal-62.mp4\n",
            "/content/drive/My Drive/FYP Dataset/Normal/Normal-56.mp4\n",
            "/content/drive/My Drive/FYP Dataset/Normal/Normal-55.mp4\n",
            "/content/drive/My Drive/FYP Dataset/Normal/Normal-65.mp4\n",
            "/content/drive/My Drive/FYP Dataset/Normal/Normal-64.mp4\n",
            "/content/drive/My Drive/FYP Dataset/Normal/Normal-70.mp4\n",
            "/content/drive/My Drive/FYP Dataset/Normal/Normal-66.mp4\n",
            "/content/drive/My Drive/FYP Dataset/Normal/Normal-67.mp4\n",
            "/content/drive/My Drive/FYP Dataset/Normal/Normal-68.mp4\n",
            "/content/drive/My Drive/FYP Dataset/Normal/Normal-63.mp4\n",
            "/content/drive/My Drive/FYP Dataset/Normal/Normal-73.mp4\n",
            "/content/drive/My Drive/FYP Dataset/Normal/Normal-74.mp4\n",
            "/content/drive/My Drive/FYP Dataset/Normal/Normal-69.mp4\n",
            "/content/drive/My Drive/FYP Dataset/Normal/Normal-72.mp4\n",
            "/content/drive/My Drive/FYP Dataset/Normal/Normal-76.mp4\n",
            "/content/drive/My Drive/FYP Dataset/Normal/Normal-71.mp4\n",
            "/content/drive/My Drive/FYP Dataset/Normal/Normal-75.mp4\n",
            "/content/drive/My Drive/FYP Dataset/Normal/Normal-84.mp4\n",
            "/content/drive/My Drive/FYP Dataset/Normal/Normal-79.mp4\n",
            "/content/drive/My Drive/FYP Dataset/Normal/Normal-89.mp4\n",
            "/content/drive/My Drive/FYP Dataset/Normal/Normal-81.mp4\n",
            "/content/drive/My Drive/FYP Dataset/Normal/Normal-85.mp4\n",
            "/content/drive/My Drive/FYP Dataset/Normal/Normal-82.mp4\n",
            "/content/drive/My Drive/FYP Dataset/Normal/Normal-91.mp4\n",
            "/content/drive/My Drive/FYP Dataset/Normal/Normal-80.mp4\n",
            "/content/drive/My Drive/FYP Dataset/Normal/Normal-78.mp4\n",
            "/content/drive/My Drive/FYP Dataset/Normal/Normal-77.mp4\n",
            "/content/drive/My Drive/FYP Dataset/Normal/Normal-87.mp4\n",
            "/content/drive/My Drive/FYP Dataset/Normal/Normal-90.mp4\n",
            "/content/drive/My Drive/FYP Dataset/Normal/Normal-86.mp4\n",
            "/content/drive/My Drive/FYP Dataset/Normal/Normal-83.mp4\n",
            "/content/drive/My Drive/FYP Dataset/Normal/Normal-88.mp4\n",
            "/content/drive/My Drive/FYP Dataset/Normal/Normal-105.mp4\n",
            "/content/drive/My Drive/FYP Dataset/Normal/Normal-103.mp4\n",
            "/content/drive/My Drive/FYP Dataset/Normal/Normal-106.mp4\n",
            "/content/drive/My Drive/FYP Dataset/Normal/Normal-107.mp4\n",
            "/content/drive/My Drive/FYP Dataset/Normal/Normal-99.mp4\n",
            "/content/drive/My Drive/FYP Dataset/Normal/Normal-108.mp4\n",
            "/content/drive/My Drive/FYP Dataset/Normal/Normal-102.mp4\n",
            "/content/drive/My Drive/FYP Dataset/Normal/Normal-96.mp4\n",
            "/content/drive/My Drive/FYP Dataset/Normal/Normal-101.mp4\n",
            "/content/drive/My Drive/FYP Dataset/Normal/Normal-93.mp4\n",
            "/content/drive/My Drive/FYP Dataset/Normal/Normal-95.mp4\n",
            "/content/drive/My Drive/FYP Dataset/Normal/Normal-100.mp4\n",
            "/content/drive/My Drive/FYP Dataset/Normal/Normal-104.mp4\n",
            "/content/drive/My Drive/FYP Dataset/Normal/Normal-94.mp4\n",
            "/content/drive/My Drive/FYP Dataset/Normal/Normal-97.mp4\n",
            "/content/drive/My Drive/FYP Dataset/Normal/Normal-92.mp4\n",
            "/content/drive/My Drive/FYP Dataset/Normal/Normal-109.mp4\n",
            "/content/drive/My Drive/FYP Dataset/Normal/Normal-98.mp4\n",
            "/content/drive/My Drive/FYP Dataset/Normal/Normal-120.mp4\n",
            "/content/drive/My Drive/FYP Dataset/Normal/Normal-113.mp4\n",
            "/content/drive/My Drive/FYP Dataset/Normal/Normal-115.mp4\n",
            "/content/drive/My Drive/FYP Dataset/Normal/Normal-117.mp4\n",
            "/content/drive/My Drive/FYP Dataset/Normal/Normal-114.mp4\n",
            "/content/drive/My Drive/FYP Dataset/Normal/Normal-112.mp4\n",
            "/content/drive/My Drive/FYP Dataset/Normal/Normal-119.mp4\n",
            "/content/drive/My Drive/FYP Dataset/Normal/Normal-118.mp4\n",
            "/content/drive/My Drive/FYP Dataset/Normal/Normal-116.mp4\n",
            "/content/drive/My Drive/FYP Dataset/Normal/Normal-111.mp4\n",
            "/content/drive/My Drive/FYP Dataset/Normal/Normal-110.mp4\n",
            "/content/drive/My Drive/FYP Dataset/Normal/Normal-127.mp4\n",
            "/content/drive/My Drive/FYP Dataset/Normal/Normal-128.mp4\n",
            "/content/drive/My Drive/FYP Dataset/Normal/Normal-129.mp4\n",
            "/content/drive/My Drive/FYP Dataset/Normal/Normal-130.mp4\n",
            "/content/drive/My Drive/FYP Dataset/Normal/Normal-131.mp4\n",
            "/content/drive/My Drive/FYP Dataset/Normal/Normal-132.mp4\n",
            "/content/drive/My Drive/FYP Dataset/Shoplifting/Shoplifting-112.mp4\n",
            "/content/drive/My Drive/FYP Dataset/Shoplifting/Shoplifting-131.mp4\n",
            "/content/drive/My Drive/FYP Dataset/Shoplifting/Shoplifting-115.mp4\n",
            "/content/drive/My Drive/FYP Dataset/Shoplifting/Shoplifting-113.mp4\n",
            "/content/drive/My Drive/FYP Dataset/Shoplifting/Shoplifting-114.mp4\n",
            "/content/drive/My Drive/FYP Dataset/Shoplifting/Shoplifting-116.mp4\n",
            "/content/drive/My Drive/FYP Dataset/Shoplifting/Shoplifting-118.mp4\n",
            "/content/drive/My Drive/FYP Dataset/Shoplifting/Shoplifting-120.mp4\n",
            "/content/drive/My Drive/FYP Dataset/Shoplifting/Shoplifting-117.mp4\n",
            "/content/drive/My Drive/FYP Dataset/Shoplifting/Shoplifting-119.mp4\n",
            "/content/drive/My Drive/FYP Dataset/Shoplifting/Shoplifting-121.mp4\n",
            "/content/drive/My Drive/FYP Dataset/Shoplifting/Shoplifting-123.mp4\n",
            "/content/drive/My Drive/FYP Dataset/Shoplifting/Shoplifting-132.mp4\n",
            "/content/drive/My Drive/FYP Dataset/Shoplifting/Shoplifting-127.mp4\n",
            "/content/drive/My Drive/FYP Dataset/Shoplifting/Shoplifting-122.mp4\n",
            "/content/drive/My Drive/FYP Dataset/Shoplifting/Shoplifting-128.mp4\n",
            "/content/drive/My Drive/FYP Dataset/Shoplifting/Shoplifting-126.mp4\n",
            "/content/drive/My Drive/FYP Dataset/Shoplifting/Shoplifting-125.mp4\n",
            "/content/drive/My Drive/FYP Dataset/Shoplifting/Shoplifting-124.mp4\n",
            "/content/drive/My Drive/FYP Dataset/Shoplifting/Shoplifting-130.mp4\n",
            "/content/drive/My Drive/FYP Dataset/Shoplifting/Shoplifting-129.mp4\n",
            "/content/drive/My Drive/FYP Dataset/Shoplifting/Shoplifting-17.mp4\n",
            "/content/drive/My Drive/FYP Dataset/Shoplifting/Shoplifting-18.mp4\n",
            "/content/drive/My Drive/FYP Dataset/Shoplifting/Shoplifting-19.mp4\n",
            "/content/drive/My Drive/FYP Dataset/Shoplifting/Shoplifting-20.mp4\n",
            "/content/drive/My Drive/FYP Dataset/Shoplifting/Shoplifting-21.mp4\n",
            "/content/drive/My Drive/FYP Dataset/Shoplifting/Shoplifting-22.mp4\n",
            "/content/drive/My Drive/FYP Dataset/Shoplifting/Shoplifting-9.mp4\n",
            "/content/drive/My Drive/FYP Dataset/Shoplifting/Shoplifting-10.mp4\n",
            "/content/drive/My Drive/FYP Dataset/Shoplifting/Shoplifting-12.mp4\n",
            "/content/drive/My Drive/FYP Dataset/Shoplifting/Shoplifting-7.mp4\n",
            "/content/drive/My Drive/FYP Dataset/Shoplifting/Shoplifting-13.mp4\n",
            "/content/drive/My Drive/FYP Dataset/Shoplifting/Shoplifting-8.mp4\n",
            "/content/drive/My Drive/FYP Dataset/Shoplifting/Shoplifting-11.mp4\n",
            "/content/drive/My Drive/FYP Dataset/Shoplifting/Shoplifting-14.mp4\n",
            "/content/drive/My Drive/FYP Dataset/Shoplifting/Shoplifting-15.mp4\n",
            "/content/drive/My Drive/FYP Dataset/Shoplifting/Shoplifting-16.mp4\n",
            "/content/drive/My Drive/FYP Dataset/Shoplifting/Shoplifting-3.mp4\n",
            "/content/drive/My Drive/FYP Dataset/Shoplifting/Shoplifting-4.mp4\n",
            "/content/drive/My Drive/FYP Dataset/Shoplifting/Shoplifting-5.mp4\n",
            "/content/drive/My Drive/FYP Dataset/Shoplifting/Shoplifting-6.mp4\n",
            "/content/drive/My Drive/FYP Dataset/Shoplifting/Shoplifting-30.mp4\n",
            "/content/drive/My Drive/FYP Dataset/Shoplifting/Shoplifting-31.mp4\n",
            "/content/drive/My Drive/FYP Dataset/Shoplifting/Shoplifting-36.mp4\n",
            "/content/drive/My Drive/FYP Dataset/Shoplifting/Shoplifting-37.mp4\n",
            "/content/drive/My Drive/FYP Dataset/Shoplifting/Shoplifting-38.mp4\n",
            "/content/drive/My Drive/FYP Dataset/Shoplifting/Shoplifting-34.mp4\n",
            "/content/drive/My Drive/FYP Dataset/Shoplifting/Shoplifting-35.mp4\n",
            "/content/drive/My Drive/FYP Dataset/Shoplifting/Shoplifting-39.mp4\n",
            "/content/drive/My Drive/FYP Dataset/Shoplifting/Shoplifting-40.mp4\n",
            "/content/drive/My Drive/FYP Dataset/Shoplifting/Shoplifting-43.mp4\n",
            "/content/drive/My Drive/FYP Dataset/Shoplifting/Shoplifting-44.mp4\n",
            "/content/drive/My Drive/FYP Dataset/Shoplifting/Shoplifting-45.mp4\n",
            "/content/drive/My Drive/FYP Dataset/Shoplifting/Shoplifting-46.mp4\n",
            "/content/drive/My Drive/FYP Dataset/Shoplifting/Shoplifting-47.mp4\n",
            "/content/drive/My Drive/FYP Dataset/Shoplifting/Shoplifting-32.mp4\n",
            "/content/drive/My Drive/FYP Dataset/Shoplifting/Shoplifting-41.mp4\n",
            "/content/drive/My Drive/FYP Dataset/Shoplifting/Shoplifting-42.mp4\n",
            "/content/drive/My Drive/FYP Dataset/Shoplifting/Shoplifting-33.mp4\n",
            "/content/drive/My Drive/FYP Dataset/Shoplifting/Shoplifting-73.mp4\n",
            "/content/drive/My Drive/FYP Dataset/Shoplifting/Shoplifting-74.mp4\n",
            "/content/drive/My Drive/FYP Dataset/Shoplifting/Shoplifting-48.mp4\n",
            "/content/drive/My Drive/FYP Dataset/Shoplifting/Shoplifting-75.mp4\n",
            "/content/drive/My Drive/FYP Dataset/Shoplifting/Shoplifting-76.mp4\n",
            "/content/drive/My Drive/FYP Dataset/Shoplifting/Shoplifting-77.mp4\n",
            "/content/drive/My Drive/FYP Dataset/Shoplifting/Shoplifting-78.mp4\n",
            "/content/drive/My Drive/FYP Dataset/Shoplifting/Shoplifting-79.mp4\n",
            "/content/drive/My Drive/FYP Dataset/Shoplifting/Shoplifting-80.mp4\n",
            "/content/drive/My Drive/FYP Dataset/Shoplifting/Shoplifting-81.mp4\n",
            "/content/drive/My Drive/FYP Dataset/Shoplifting/Shoplifting-82.mp4\n",
            "/content/drive/My Drive/FYP Dataset/Shoplifting/Shoplifting-83.mp4\n",
            "/content/drive/My Drive/FYP Dataset/Shoplifting/Shoplifting-84.mp4\n",
            "/content/drive/My Drive/FYP Dataset/Shoplifting/Shoplifting-85.mp4\n",
            "/content/drive/My Drive/FYP Dataset/Shoplifting/Shoplifting-86.mp4\n",
            "/content/drive/My Drive/FYP Dataset/Shoplifting/Shoplifting-87.mp4\n",
            "/content/drive/My Drive/FYP Dataset/Shoplifting/Shoplifting-88.mp4\n",
            "/content/drive/My Drive/FYP Dataset/Shoplifting/Shoplifting-89.mp4\n",
            "/content/drive/My Drive/FYP Dataset/Shoplifting/Shoplifting-90.mp4\n",
            "/content/drive/My Drive/FYP Dataset/Shoplifting/Shoplifting-91.mp4\n",
            "/content/drive/My Drive/FYP Dataset/Shoplifting/Shoplifting-92.mp4\n",
            "/content/drive/My Drive/FYP Dataset/Shoplifting/Shoplifting-93.mp4\n",
            "/content/drive/My Drive/FYP Dataset/Shoplifting/Shoplifting-94.mp4\n",
            "/content/drive/My Drive/FYP Dataset/Shoplifting/Shoplifting-95.mp4\n",
            "/content/drive/My Drive/FYP Dataset/Shoplifting/Shoplifting-96.mp4\n",
            "/content/drive/My Drive/FYP Dataset/Shoplifting/Shoplifting-97.mp4\n",
            "/content/drive/My Drive/FYP Dataset/Shoplifting/Shoplifting-98.mp4\n",
            "/content/drive/My Drive/FYP Dataset/Shoplifting/Shoplifting-99.mp4\n",
            "/content/drive/My Drive/FYP Dataset/Shoplifting/Shoplifting-100.mp4\n",
            "/content/drive/My Drive/FYP Dataset/Shoplifting/Shoplifting-101.mp4\n",
            "/content/drive/My Drive/FYP Dataset/Shoplifting/Shoplifting-102.mp4\n",
            "/content/drive/My Drive/FYP Dataset/Shoplifting/Shoplifting-103.mp4\n",
            "/content/drive/My Drive/FYP Dataset/Shoplifting/Shoplifting-104.mp4\n",
            "/content/drive/My Drive/FYP Dataset/Shoplifting/Shoplifting-105.mp4\n",
            "/content/drive/My Drive/FYP Dataset/Shoplifting/Shoplifting-106.mp4\n",
            "/content/drive/My Drive/FYP Dataset/Shoplifting/Shoplifting-107.mp4\n",
            "/content/drive/My Drive/FYP Dataset/Shoplifting/Shoplifting-108.mp4\n",
            "/content/drive/My Drive/FYP Dataset/Shoplifting/Shoplifting-109.mp4\n",
            "/content/drive/My Drive/FYP Dataset/Shoplifting/Shoplifting-110.mp4\n",
            "/content/drive/My Drive/FYP Dataset/Shoplifting/Shoplifting-111.mp4\n",
            "/content/drive/My Drive/FYP Dataset/Shoplifting/Shoplifting-1.mp4\n",
            "/content/drive/My Drive/FYP Dataset/Shoplifting/Shoplifting-2.mp4\n",
            "/content/drive/My Drive/FYP Dataset/Shoplifting/Shoplifting-23.mp4\n",
            "/content/drive/My Drive/FYP Dataset/Shoplifting/Shoplifting-24.mp4\n",
            "/content/drive/My Drive/FYP Dataset/Shoplifting/Shoplifting-25.mp4\n",
            "/content/drive/My Drive/FYP Dataset/Shoplifting/Shoplifting-26.mp4\n",
            "/content/drive/My Drive/FYP Dataset/Shoplifting/Shoplifting-27.mp4\n",
            "/content/drive/My Drive/FYP Dataset/Shoplifting/Shoplifting-28.mp4\n",
            "/content/drive/My Drive/FYP Dataset/Shoplifting/Shoplifting-29.mp4\n",
            "/content/drive/My Drive/FYP Dataset/Shoplifting/Shoplifting-49.mp4\n",
            "/content/drive/My Drive/FYP Dataset/Shoplifting/Shoplifting-50.mp4\n",
            "/content/drive/My Drive/FYP Dataset/Shoplifting/Shoplifting-52.mp4\n",
            "/content/drive/My Drive/FYP Dataset/Shoplifting/Shoplifting-51.mp4\n",
            "/content/drive/My Drive/FYP Dataset/Shoplifting/Shoplifting-53.mp4\n",
            "/content/drive/My Drive/FYP Dataset/Shoplifting/Shoplifting-55.mp4\n",
            "/content/drive/My Drive/FYP Dataset/Shoplifting/Shoplifting-56.mp4\n",
            "/content/drive/My Drive/FYP Dataset/Shoplifting/Shoplifting-57.mp4\n",
            "/content/drive/My Drive/FYP Dataset/Shoplifting/Shoplifting-58.mp4\n",
            "/content/drive/My Drive/FYP Dataset/Shoplifting/Shoplifting-59.mp4\n",
            "/content/drive/My Drive/FYP Dataset/Shoplifting/Shoplifting-60.mp4\n",
            "/content/drive/My Drive/FYP Dataset/Shoplifting/Shoplifting-62.mp4\n",
            "/content/drive/My Drive/FYP Dataset/Shoplifting/Shoplifting-61.mp4\n",
            "/content/drive/My Drive/FYP Dataset/Shoplifting/Shoplifting-63.mp4\n",
            "/content/drive/My Drive/FYP Dataset/Shoplifting/Shoplifting-64.mp4\n",
            "/content/drive/My Drive/FYP Dataset/Shoplifting/Shoplifting-65.mp4\n",
            "/content/drive/My Drive/FYP Dataset/Shoplifting/Shoplifting-66.mp4\n",
            "/content/drive/My Drive/FYP Dataset/Shoplifting/Shoplifting-67.mp4\n",
            "/content/drive/My Drive/FYP Dataset/Shoplifting/Shoplifting-68.mp4\n",
            "/content/drive/My Drive/FYP Dataset/Shoplifting/Shoplifting-69.mp4\n",
            "/content/drive/My Drive/FYP Dataset/Shoplifting/Shoplifting-70.mp4\n",
            "/content/drive/My Drive/FYP Dataset/Shoplifting/Shoplifting-71.mp4\n",
            "/content/drive/My Drive/FYP Dataset/Shoplifting/Shoplifting-72.mp4\n",
            "/content/drive/My Drive/FYP Dataset/Shoplifting/Shoplifting-54.mp4\n"
          ]
        }
      ],
      "source": [
        "# Step 1: Mount Google Drive\n",
        "from google.colab import drive\n",
        "drive.mount('/content/drive')\n",
        "\n",
        "# Step 2: Set the path to the FYP Dataset folder\n",
        "dataset_path = '/content/drive/My Drive/FYP Dataset'\n",
        "\n",
        "# Step 3: List all video files in the folder and its subfolders\n",
        "import os\n",
        "\n",
        "# Check if the folder exists\n",
        "if os.path.exists(dataset_path):\n",
        "    print(\"Dataset folder found!\")\n",
        "    # Walk through the folder recursively and collect video files\n",
        "    video_files = []\n",
        "    for root, dirs, files in os.walk(dataset_path):\n",
        "        for file in files:\n",
        "            if file.endswith(('.mp4', '.avi', '.mov', '.mkv')):\n",
        "                video_files.append(os.path.join(root, file))\n",
        "    print(f\"Found {len(video_files)} video files:\")\n",
        "    for video in video_files:\n",
        "        print(video)\n",
        "else:\n",
        "    print(\"Dataset folder not found! Check the path.\")\n"
      ]
    },
    {
      "cell_type": "code",
      "source": [
        "import numpy as np\n",
        "import pandas as pd\n",
        "import tensorflow as tf\n",
        "import matplotlib.pyplot as plt\n",
        "import seaborn as sns\n",
        "\n",
        "from sklearn.model_selection import train_test_split\n",
        "from sklearn.metrics import precision_recall_fscore_support\n",
        "from sklearn.metrics import confusion_matrix\n",
        "from keras.layers import *\n",
        "from keras.models import Model\n",
        "from keras.utils import to_categorical\n",
        "from keras.callbacks import EarlyStopping\n",
        "from keras.utils import plot_model\n",
        "\n",
        "import os\n",
        "import cv2\n",
        "import shutil"
      ],
      "metadata": {
        "id": "IrzF6FkhdWDd"
      },
      "execution_count": null,
      "outputs": []
    },
    {
      "cell_type": "code",
      "source": [
        "seed_constant = 27\n",
        "np.random.seed(seed_constant)\n",
        "tf.random.set_seed(seed_constant)"
      ],
      "metadata": {
        "id": "e-g7IRAEdX9n"
      },
      "execution_count": null,
      "outputs": []
    },
    {
      "cell_type": "code",
      "source": [
        "dim = 256\n",
        "\n",
        "IMAGE_HEIGHT = dim\n",
        "IMAGE_WIDTH = dim\n",
        "\n",
        "# Specify the number of frames that will be fed to the Neural Network\n",
        "SEQUENCE_LENGTH = 60\n",
        "CLASSES_LIST = [\"0\",\"1\"]"
      ],
      "metadata": {
        "id": "dDGT71_TdYhD"
      },
      "execution_count": null,
      "outputs": []
    },
    {
      "cell_type": "code",
      "source": [
        "def frame_extraction(video_path):\n",
        "\n",
        "    frame_list = []\n",
        "\n",
        "    video_capture = cv2.VideoCapture(video_path)\n",
        "    video_frame_count = int(video_capture.get(cv2.CAP_PROP_FRAME_COUNT))\n",
        "    skip_frame_window = max(int(video_frame_count/SEQUENCE_LENGTH),1)\n",
        "\n",
        "    for frame_counter in range(SEQUENCE_LENGTH):\n",
        "\n",
        "        # set the current frame position of the video\n",
        "        video_capture.set(cv2.CAP_PROP_POS_FRAMES,frame_counter*skip_frame_window)\n",
        "\n",
        "        success,frame = video_capture.read()\n",
        "\n",
        "        # check if the frame is successfully setup or not\n",
        "        if not success:\n",
        "            break\n",
        "\n",
        "        # Resize the frame into fixed size height and width\n",
        "        resized_frame = cv2.resize(frame,(IMAGE_HEIGHT,IMAGE_WIDTH))\n",
        "\n",
        "        # Normalise the given frame\n",
        "        normalized_frame = resized_frame/255\n",
        "\n",
        "        # Append the normalised frame into  frame list\n",
        "        frame_list.append(normalized_frame)\n",
        "\n",
        "        # release the video capture object,\n",
        "    video_capture.release()\n",
        "\n",
        "    return frame_list"
      ],
      "metadata": {
        "id": "c1iupD0PsZFW"
      },
      "execution_count": null,
      "outputs": []
    },
    {
      "cell_type": "code",
      "source": [
        "def create_dataset():\n",
        "    \"\"\"\n",
        "    Create features and labels from the dataset organized in subfolders.\n",
        "    \"\"\"\n",
        "    dataset_path = '/content/drive/My Drive/FYP Dataset'\n",
        "    features = []\n",
        "    labels = []\n",
        "    video_file_paths = []\n",
        "\n",
        "    # List subfolders in the dataset directory\n",
        "    subfolders = [f for f in os.listdir(dataset_path) if os.path.isdir(os.path.join(dataset_path, f))]\n",
        "\n",
        "    # Process each subfolder\n",
        "    for label_index, subfolder in enumerate(subfolders):\n",
        "        subfolder_path = os.path.join(dataset_path, subfolder)\n",
        "        video_files = [f for f in os.listdir(subfolder_path) if f.endswith(('.mp4', '.avi', '.mov', '.mkv'))]\n",
        "\n",
        "        for video_file in video_files:\n",
        "            video_path = os.path.join(subfolder_path, video_file)\n",
        "            frames = frame_extraction(video_path)\n",
        "\n",
        "            if len(frames) == SEQUENCE_LENGTH:\n",
        "                features.append(frames)\n",
        "                labels.append(label_index)  # Assign label based on subfolder index\n",
        "                video_file_paths.append(video_path)\n",
        "\n",
        "    # Convert to NumPy arrays\n",
        "    features = np.asarray(features)\n",
        "    labels = np.array(labels)\n",
        "    return features, labels, video_file_paths"
      ],
      "metadata": {
        "id": "Cg8nfgf-sbEB"
      },
      "execution_count": null,
      "outputs": []
    },
    {
      "cell_type": "code",
      "source": [
        "# create a dataset\n",
        "features, labels, video_file_paths = create_dataset()"
      ],
      "metadata": {
        "id": "I6nxpWMsseme"
      },
      "execution_count": null,
      "outputs": []
    },
    {
      "cell_type": "code",
      "source": [
        "one_hot_encoded_labels = to_categorical(labels)\n",
        "\n",
        "print(\"Shape of features:\", features.shape)  # (num_samples, SEQUENCE_LENGTH, IMAGE_HEIGHT, IMAGE_WIDTH, num_channels)\n",
        "print(\"Shape of one-hot encoded labels:\", one_hot_encoded_labels.shape)  # (num_samples, num_classes)"
      ],
      "metadata": {
        "id": "V1RzZz6OsgHn",
        "colab": {
          "base_uri": "https://localhost:8080/"
        },
        "outputId": "09de312a-1bbf-4af7-f651-52e1c04e50ae"
      },
      "execution_count": null,
      "outputs": [
        {
          "output_type": "stream",
          "name": "stdout",
          "text": [
            "Shape of features: (261, 60, 256, 256, 3)\n",
            "Shape of one-hot encoded labels: (261, 2)\n"
          ]
        }
      ]
    },
    {
      "cell_type": "code",
      "source": [
        "from sklearn.model_selection import train_test_split\n",
        "\n",
        "# Assuming features and one_hot_encoded_labels have been prepared\n",
        "x_train, x_test, y_train, y_test = train_test_split(\n",
        "    features,\n",
        "    one_hot_encoded_labels,\n",
        "    test_size=0.25,\n",
        "    shuffle=True,\n",
        "    random_state=seed_constant\n",
        ")\n",
        "\n",
        "print(\"Training feature shape:\", x_train.shape)  # Shape of training data\n",
        "print(\"Testing feature shape:\", x_test.shape)      # Shape of testing data\n",
        "print(\"Training label shape:\", y_train.shape)      # Shape of training labels\n",
        "print(\"Testing label shape:\", y_test.shape)        # Shape of testing labels"
      ],
      "metadata": {
        "id": "FaqnqwtZshlZ",
        "colab": {
          "base_uri": "https://localhost:8080/"
        },
        "outputId": "3c575935-5e38-4c4a-8191-f20d149f97da"
      },
      "execution_count": null,
      "outputs": [
        {
          "output_type": "stream",
          "name": "stdout",
          "text": [
            "Training feature shape: (195, 60, 256, 256, 3)\n",
            "Testing feature shape: (66, 60, 256, 256, 3)\n",
            "Training label shape: (195, 2)\n",
            "Testing label shape: (66, 2)\n"
          ]
        }
      ]
    },
    {
      "cell_type": "code",
      "source": [
        "# Creating Neural Network\n",
        "\n",
        "input_layer = Input(shape=(SEQUENCE_LENGTH,IMAGE_HEIGHT,IMAGE_WIDTH,3))\n",
        "\n",
        "convlstm_1 = ConvLSTM2D(filters=4,kernel_size=(3,3),activation='tanh',data_format='channels_last',recurrent_dropout=0.2,return_sequences=True)(input_layer)\n",
        "pool1 = MaxPooling3D(pool_size=(1,2,2),padding='same',data_format='channels_last')(convlstm_1)\n",
        "timedistributed_1 = TimeDistributed(Dropout(0.2))(pool1)\n",
        "\n",
        "convlstm_2 = ConvLSTM2D(filters=8,kernel_size=(3,3),activation='tanh',data_format='channels_last',recurrent_dropout=0.2,return_sequences=True)(timedistributed_1)\n",
        "pool2 = MaxPooling3D(pool_size=(1,2,2),padding='same',data_format='channels_last')(convlstm_2)\n",
        "timedistributed_2 = TimeDistributed(Dropout(0.2))(pool2)\n",
        "\n",
        "convlstm_3 = ConvLSTM2D(filters=16,kernel_size=(3,3),activation='tanh',data_format='channels_last',recurrent_dropout=0.2,return_sequences=True)(timedistributed_2)\n",
        "pool3 = MaxPooling3D(pool_size=(1,2,2),padding='same',data_format='channels_last')(convlstm_3)\n",
        "timedistributed_3 = TimeDistributed(Dropout(0.2))(pool3)\n",
        "\n",
        "convlstm_4 = ConvLSTM2D(filters=32,kernel_size=(3,3),activation='tanh',data_format='channels_last',recurrent_dropout=0.2,return_sequences=True)(timedistributed_3)\n",
        "pool4 = MaxPooling3D(pool_size=(1,2,2),padding='same',data_format='channels_last')(convlstm_4)\n",
        "\n",
        "flatten = Flatten()(pool4)\n",
        "\n",
        "output = Dense(units=len(CLASSES_LIST), activation='sigmoid')(flatten)\n",
        "\n",
        "\n",
        "\n",
        "model = Model(input_layer,output)"
      ],
      "metadata": {
        "id": "qphJXiC7sjdj"
      },
      "execution_count": null,
      "outputs": []
    },
    {
      "cell_type": "code",
      "source": [
        "model.summary()"
      ],
      "metadata": {
        "id": "hC1iZAPlslH0",
        "colab": {
          "base_uri": "https://localhost:8080/"
        },
        "outputId": "ca60f263-aee9-4272-8f37-e77ddf90e2b1"
      },
      "execution_count": null,
      "outputs": [
        {
          "output_type": "stream",
          "name": "stdout",
          "text": [
            "Model: \"model\"\n",
            "_________________________________________________________________\n",
            " Layer (type)                Output Shape              Param #   \n",
            "=================================================================\n",
            " input_1 (InputLayer)        [(None, 60, 256, 256, 3   0         \n",
            "                             )]                                  \n",
            "                                                                 \n",
            " conv_lstm2d (ConvLSTM2D)    (None, 60, 254, 254, 4)   1024      \n",
            "                                                                 \n",
            " max_pooling3d (MaxPooling3  (None, 60, 127, 127, 4)   0         \n",
            " D)                                                              \n",
            "                                                                 \n",
            " time_distributed (TimeDist  (None, 60, 127, 127, 4)   0         \n",
            " ributed)                                                        \n",
            "                                                                 \n",
            " conv_lstm2d_1 (ConvLSTM2D)  (None, 60, 125, 125, 8)   3488      \n",
            "                                                                 \n",
            " max_pooling3d_1 (MaxPoolin  (None, 60, 63, 63, 8)     0         \n",
            " g3D)                                                            \n",
            "                                                                 \n",
            " time_distributed_1 (TimeDi  (None, 60, 63, 63, 8)     0         \n",
            " stributed)                                                      \n",
            "                                                                 \n",
            " conv_lstm2d_2 (ConvLSTM2D)  (None, 60, 61, 61, 16)    13888     \n",
            "                                                                 \n",
            " max_pooling3d_2 (MaxPoolin  (None, 60, 31, 31, 16)    0         \n",
            " g3D)                                                            \n",
            "                                                                 \n",
            " time_distributed_2 (TimeDi  (None, 60, 31, 31, 16)    0         \n",
            " stributed)                                                      \n",
            "                                                                 \n",
            " conv_lstm2d_3 (ConvLSTM2D)  (None, 60, 29, 29, 32)    55424     \n",
            "                                                                 \n",
            " max_pooling3d_3 (MaxPoolin  (None, 60, 15, 15, 32)    0         \n",
            " g3D)                                                            \n",
            "                                                                 \n",
            " flatten (Flatten)           (None, 432000)            0         \n",
            "                                                                 \n",
            " dense (Dense)               (None, 2)                 864002    \n",
            "                                                                 \n",
            "=================================================================\n",
            "Total params: 937826 (3.58 MB)\n",
            "Trainable params: 937826 (3.58 MB)\n",
            "Non-trainable params: 0 (0.00 Byte)\n",
            "_________________________________________________________________\n"
          ]
        }
      ]
    },
    {
      "cell_type": "code",
      "source": [
        "early_stopping_callback = EarlyStopping(monitor='val_loss',patience=10,mode='min',restore_best_weights=True)"
      ],
      "metadata": {
        "id": "1iA-v6khsqwP"
      },
      "execution_count": null,
      "outputs": []
    },
    {
      "cell_type": "code",
      "source": [
        "model.compile(loss=\"binary_crossentropy\", optimizer='adam', metrics=['accuracy'])"
      ],
      "metadata": {
        "id": "x3ABMkG5ssyv"
      },
      "execution_count": null,
      "outputs": []
    },
    {
      "cell_type": "code",
      "source": [
        "history = model.fit(x_train,y_train,epochs=3,batch_size=4,shuffle=True, validation_split=0.2,callbacks=[early_stopping_callback])"
      ],
      "metadata": {
        "id": "ZG_KeJOis01J",
        "colab": {
          "base_uri": "https://localhost:8080/"
        },
        "outputId": "d9edda96-b58c-41cd-ad6e-d8fbc4d9987c"
      },
      "execution_count": null,
      "outputs": [
        {
          "output_type": "stream",
          "name": "stdout",
          "text": [
            "Epoch 1/3\n",
            "39/39 [==============================] - 2655s 67s/step - loss: 0.8050 - accuracy: 0.6154 - val_loss: 0.9486 - val_accuracy: 0.4103\n",
            "Epoch 2/3\n",
            "39/39 [==============================] - 2576s 66s/step - loss: 0.6825 - accuracy: 0.5897 - val_loss: 0.6061 - val_accuracy: 0.6154\n",
            "Epoch 3/3\n",
            "39/39 [==============================] - 2553s 66s/step - loss: 0.5571 - accuracy: 0.6987 - val_loss: 0.5763 - val_accuracy: 0.6923\n"
          ]
        }
      ]
    },
    {
      "cell_type": "code",
      "source": [
        "loss,accuracy = model.evaluate(x_test,y_test)\n",
        "\n",
        "print(\"Loss : \",loss)\n",
        "print(\"Accuracy : \",accuracy)"
      ],
      "metadata": {
        "id": "GwQ4ist3s3Hh",
        "colab": {
          "base_uri": "https://localhost:8080/"
        },
        "outputId": "9821a9f6-ee2a-4b78-990e-1ea176534252"
      },
      "execution_count": null,
      "outputs": [
        {
          "output_type": "stream",
          "name": "stdout",
          "text": [
            "3/3 [==============================] - 223s 57s/step - loss: 0.6256 - accuracy: 0.6212\n",
            "Loss :  0.6255756616592407\n",
            "Accuracy :  0.6212121248245239\n"
          ]
        }
      ]
    },
    {
      "cell_type": "code",
      "source": [
        "# Plotting loss curve for training and validation set\n",
        "\n",
        "def plot_curve(model_training_history,metric_name_1,metric_name_2,plot_name):\n",
        "\n",
        "    metric1 = model_training_history.history[metric_name_1]\n",
        "    metric2 = model_training_history.history[metric_name_2]\n",
        "    plt.plot(metric1,color='blue',label=metric_name_1)\n",
        "    plt.plot(metric2,color='red',label=metric_name_2)\n",
        "    plt.title(str(plot_name))\n",
        "    plt.legend()\n",
        "    plt.show()"
      ],
      "metadata": {
        "id": "8Xl8Oycbs5fo"
      },
      "execution_count": null,
      "outputs": []
    },
    {
      "cell_type": "code",
      "source": [
        "plot_curve(history,'loss','val_loss',\"Total loss vs Total validation loss\")"
      ],
      "metadata": {
        "id": "ZHxrfM5rs781",
        "colab": {
          "base_uri": "https://localhost:8080/",
          "height": 452
        },
        "outputId": "f6c8045f-6a9b-468a-c809-ca89d7b0b5b6"
      },
      "execution_count": null,
      "outputs": [
        {
          "output_type": "display_data",
          "data": {
            "text/plain": [
              "<Figure size 640x480 with 1 Axes>"
            ],
            "image/png": "[encoded data removed]"
          },
          "metadata": {}
        }
      ]
    },
    {
      "cell_type": "code",
      "source": [
        "predictions = model.predict(x_test)\n",
        "\n",
        "# Assuming predictions are in probability form and you need to convert them to binary labels\n",
        "binary_predictions = (predictions > 0.5).astype('int32')\n",
        "\n",
        "# Calculate precision, recall, and F1 score\n",
        "precision, recall, f1_score, _ = precision_recall_fscore_support(y_test, binary_predictions, average=None)\n",
        "\n",
        "print(\"Precision:\", precision)\n",
        "print(\"Recall:\", recall)\n",
        "print(\"F1 Score:\", f1_score)"
      ],
      "metadata": {
        "id": "m_lmrHPfs9nw",
        "colab": {
          "base_uri": "https://localhost:8080/"
        },
        "outputId": "55ac2a50-6efa-4770-a4c7-86224807f02e"
      },
      "execution_count": null,
      "outputs": [
        {
          "output_type": "stream",
          "name": "stdout",
          "text": [
            "3/3 [==============================] - 234s 58s/step\n",
            "Precision: [0.73684211 0.57446809]\n",
            "Recall: [0.41176471 0.84375   ]\n",
            "F1 Score: [0.52830189 0.6835443 ]\n"
          ]
        }
      ]
    },
    {
      "cell_type": "code",
      "source": [
        "predicted_labels = np.argmax(predictions, axis=1)\n",
        "true_labels = np.argmax(y_test, axis=1)  # Assuming test_Y is one-hot encoded\n",
        "conf_matrix = confusion_matrix(true_labels, predicted_labels)"
      ],
      "metadata": {
        "id": "3FMlYh7ns_Ok"
      },
      "execution_count": null,
      "outputs": []
    },
    {
      "cell_type": "code",
      "source": [
        "plt.figure(figsize=(8, 6))\n",
        "sns.heatmap(conf_matrix, annot=True, fmt='d', cmap='Blues')\n",
        "plt.xlabel('Predicted labels')\n",
        "plt.ylabel('True labels')\n",
        "plt.title('Confusion Matrix')\n",
        "plt.show()"
      ],
      "metadata": {
        "id": "PCKc6C5WtB9L",
        "colab": {
          "base_uri": "https://localhost:8080/",
          "height": 564
        },
        "outputId": "6e46d44b-8f17-4713-9c4a-dd4534f85e23"
      },
      "execution_count": null,
      "outputs": [
        {
          "output_type": "display_data",
          "data": {
            "text/plain": [
              "<Figure size 800x600 with 2 Axes>"
            ],
            "image/png": "[encoded data removed]"
          },
          "metadata": {}
        }
      ]
    },
    {
      "cell_type": "code",
      "source": [
        "model.save(\"60_model_bs_256.h5\")"
      ],
      "metadata": {
        "id": "FbnYuj3TtEEj",
        "colab": {
          "base_uri": "https://localhost:8080/"
        },
        "outputId": "913a9abd-a785-41d3-9bd6-ca9adf1fc217"
      },
      "execution_count": null,
      "outputs": [
        {
          "output_type": "stream",
          "name": "stderr",
          "text": [
            "/usr/local/lib/python3.10/dist-packages/keras/src/engine/training.py:3103: UserWarning: You are saving your model as an HDF5 file via `model.save()`. This file format is considered legacy. We recommend using instead the native Keras format, e.g. `model.save('my_model.keras')`.\n",
            "  saving_api.save_model(\n"
          ]
        }
      ]
    },
    {
      "cell_type": "code",
      "source": [
        "# Save the model\n",
        "model_path = '/content/drive/My Drive/60_model_bs_256'\n",
        "model.save(model_path)\n",
        "\n",
        "print(f\"Model saved to {model_path}\")\n"
      ],
      "metadata": {
        "colab": {
          "base_uri": "https://localhost:8080/"
        },
        "id": "vovqgD4L_OMq",
        "outputId": "74f97e76-d7fe-4965-b9b9-e588c38edf6d"
      },
      "execution_count": null,
      "outputs": [
        {
          "output_type": "stream",
          "name": "stdout",
          "text": [
            "Model saved to /content/drive/My Drive/60_model_bs_256\n"
          ]
        }
      ]
    },
    {
      "cell_type": "code",
      "source": [
        "# Save the model in .h5 format\n",
        "model_path = '/content/drive/My Drive/60_model_bs_256ok.h5'\n",
        "model.save(model_path)\n",
        "\n",
        "print(f\"Model saved to {model_path}\")\n"
      ],
      "metadata": {
        "colab": {
          "base_uri": "https://localhost:8080/"
        },
        "id": "J92bYssJ_jw3",
        "outputId": "8c25b196-0e58-4ce5-9a43-12fe3bfb9e8f"
      },
      "execution_count": null,
      "outputs": [
        {
          "output_type": "stream",
          "name": "stdout",
          "text": [
            "Model saved to /content/drive/My Drive/60_model_bs_256ok.h5\n"
          ]
        },
        {
          "output_type": "stream",
          "name": "stderr",
          "text": [
            "/usr/local/lib/python3.10/dist-packages/keras/src/engine/training.py:3103: UserWarning: You are saving your model as an HDF5 file via `model.save()`. This file format is considered legacy. We recommend using instead the native Keras format, e.g. `model.save('my_model.keras')`.\n",
            "  saving_api.save_model(\n"
          ]
        }
      ]
    }
  ]
}